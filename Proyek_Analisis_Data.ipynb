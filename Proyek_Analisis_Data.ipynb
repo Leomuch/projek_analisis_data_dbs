{
  "cells": [
    {
      "cell_type": "markdown",
      "metadata": {
        "id": "H9wADwK78DCz"
      },
      "source": [
        "# Proyek Analisis Data: Bike Sharing Dataset\n",
        "- **Nama:** Muchlas Andrey Pahlevi\n",
        "- **Email:** muklasandrey@gmail.com\n",
        "- **ID Dicoding:** MC269D5Y0683"
      ]
    },
    {
      "cell_type": "markdown",
      "metadata": {
        "id": "eE0raob58DC0"
      },
      "source": [
        "## Menentukan Pertanyaan Bisnis"
      ]
    },
    {
      "cell_type": "markdown",
      "metadata": {
        "id": "GmQeQ5YF8DC0"
      },
      "source": [
        "- Bagaimana pengaruh kondisi cuaca terhadap jumlah penyewaan sepeda selama tahun 2011 dan 2012?\n",
        "- Apakah terdapat pola musiman atau tren waktu dalam penggunaan sepeda selama tahun 2011 dan 2012?"
      ]
    },
    {
      "cell_type": "markdown",
      "metadata": {
        "id": "H-z4QGlO8DC1"
      },
      "source": [
        "## Import Semua Packages/Library yang Digunakan"
      ]
    },
    {
      "cell_type": "code",
      "execution_count": 1,
      "metadata": {
        "id": "FVYwaObI8DC1"
      },
      "outputs": [],
      "source": [
        "import matplotlib.pyplot as plt\n",
        "import pandas as pd\n",
        "import seaborn as sns\n",
        "import streamlit as st"
      ]
    },
    {
      "cell_type": "markdown",
      "metadata": {
        "id": "h_Sh51Xy8DC1"
      },
      "source": [
        "## Data Wrangling"
      ]
    },
    {
      "cell_type": "markdown",
      "metadata": {
        "id": "sXU2GBYu8DC1"
      },
      "source": [
        "### Gathering Data"
      ]
    },
    {
      "cell_type": "markdown",
      "metadata": {
        "id": "7VSH7o9pAvL8"
      },
      "source": [
        "####Membaca Dataset"
      ]
    },
    {
      "cell_type": "code",
      "execution_count": null,
      "metadata": {
        "id": "zjCBk1BI8DC1"
      },
      "outputs": [],
      "source": [
        "df_day = pd.read_csv(\"data/day.csv\")"
      ]
    },
    {
      "cell_type": "markdown",
      "metadata": {
        "id": "EDwyrtxZBC6g"
      },
      "source": [
        "#### Menampilkan 5 baris pertama dari dataset"
      ]
    },
    {
      "cell_type": "code",
      "execution_count": 9,
      "metadata": {
        "colab": {
          "base_uri": "https://localhost:8080/"
        },
        "id": "rPphMg7_BSZq",
        "outputId": "26f1337f-d516-45a4-b0a0-70e3264f5e92"
      },
      "outputs": [
        {
          "name": "stdout",
          "output_type": "stream",
          "text": [
            "Preview df_day:\n",
            "   instant      dteday  season  yr  mnth  holiday  weekday  workingday  \\\n",
            "0        1  2011-01-01       1   0     1        0        6           0   \n",
            "1        2  2011-01-02       1   0     1        0        0           0   \n",
            "2        3  2011-01-03       1   0     1        0        1           1   \n",
            "3        4  2011-01-04       1   0     1        0        2           1   \n",
            "4        5  2011-01-05       1   0     1        0        3           1   \n",
            "\n",
            "   weathersit      temp     atemp       hum  windspeed  casual  registered  \\\n",
            "0           2  0.344167  0.363625  0.805833   0.160446     331         654   \n",
            "1           2  0.363478  0.353739  0.696087   0.248539     131         670   \n",
            "2           1  0.196364  0.189405  0.437273   0.248309     120        1229   \n",
            "3           1  0.200000  0.212122  0.590435   0.160296     108        1454   \n",
            "4           1  0.226957  0.229270  0.436957   0.186900      82        1518   \n",
            "\n",
            "    cnt  \n",
            "0   985  \n",
            "1   801  \n",
            "2  1349  \n",
            "3  1562  \n",
            "4  1600  \n"
          ]
        }
      ],
      "source": [
        "print(\"Preview df_day:\")\n",
        "print(df_day.head())"
      ]
    },
    {
      "cell_type": "code",
      "execution_count": 10,
      "metadata": {},
      "outputs": [
        {
          "name": "stderr",
          "output_type": "stream",
          "text": [
            "2025-03-09 09:05:00.590 WARNING streamlit.runtime.scriptrunner_utils.script_run_context: Thread 'MainThread': missing ScriptRunContext! This warning can be ignored when running in bare mode.\n",
            "2025-03-09 09:05:00.632 \n",
            "  \u001b[33m\u001b[1mWarning:\u001b[0m to view this Streamlit app on a browser, run it with the following\n",
            "  command:\n",
            "\n",
            "    streamlit run c:\\Users\\leomuch\\miniconda3\\Lib\\site-packages\\ipykernel_launcher.py [ARGUMENTS]\n",
            "2025-03-09 09:05:00.632 Thread 'MainThread': missing ScriptRunContext! This warning can be ignored when running in bare mode.\n"
          ]
        },
        {
          "data": {
            "text/plain": [
              "DeltaGenerator()"
            ]
          },
          "execution_count": 10,
          "metadata": {},
          "output_type": "execute_result"
        }
      ],
      "source": [
        "st.title(\"Dashboard Analisis Penyewaan Sepeda 🚲\")"
      ]
    },
    {
      "cell_type": "markdown",
      "metadata": {
        "id": "ACb4IwT5Dj8M"
      },
      "source": [
        "#### Mengecek rentang tahun menggunakan unique, min dan max\n",
        "Maka ditemukan tahun dari dataset tersebut yaitu 2011 dan 2012"
      ]
    },
    {
      "cell_type": "code",
      "execution_count": 11,
      "metadata": {
        "colab": {
          "base_uri": "https://localhost:8080/"
        },
        "id": "e66s1ejYDnQ-",
        "outputId": "cad6330d-10ec-4423-9a6d-0d68943d2ebe"
      },
      "outputs": [
        {
          "data": {
            "text/plain": [
              "(array([0, 1]), ('2011-01-01', '2012-12-31'))"
            ]
          },
          "execution_count": 11,
          "metadata": {},
          "output_type": "execute_result"
        }
      ],
      "source": [
        "(df_day['yr'].unique(), (df_day['dteday'].min(), df_day['dteday'].max()))"
      ]
    },
    {
      "cell_type": "markdown",
      "metadata": {
        "id": "BkH_fRrxBiVE"
      },
      "source": [
        "#### Menampilkan Informasi Dataset"
      ]
    },
    {
      "cell_type": "code",
      "execution_count": 13,
      "metadata": {
        "colab": {
          "base_uri": "https://localhost:8080/"
        },
        "id": "3BxUIuXVBl7T",
        "outputId": "6369e1e2-ba56-44ec-ae4e-108a4262cb1a"
      },
      "outputs": [
        {
          "name": "stdout",
          "output_type": "stream",
          "text": [
            "Informasi df_day:\n",
            "<class 'pandas.core.frame.DataFrame'>\n",
            "RangeIndex: 731 entries, 0 to 730\n",
            "Data columns (total 16 columns):\n",
            " #   Column      Non-Null Count  Dtype  \n",
            "---  ------      --------------  -----  \n",
            " 0   instant     731 non-null    int64  \n",
            " 1   dteday      731 non-null    object \n",
            " 2   season      731 non-null    int64  \n",
            " 3   yr          731 non-null    int64  \n",
            " 4   mnth        731 non-null    int64  \n",
            " 5   holiday     731 non-null    int64  \n",
            " 6   weekday     731 non-null    int64  \n",
            " 7   workingday  731 non-null    int64  \n",
            " 8   weathersit  731 non-null    int64  \n",
            " 9   temp        731 non-null    float64\n",
            " 10  atemp       731 non-null    float64\n",
            " 11  hum         731 non-null    float64\n",
            " 12  windspeed   731 non-null    float64\n",
            " 13  casual      731 non-null    int64  \n",
            " 14  registered  731 non-null    int64  \n",
            " 15  cnt         731 non-null    int64  \n",
            "dtypes: float64(4), int64(11), object(1)\n",
            "memory usage: 91.5+ KB\n",
            "None\n"
          ]
        }
      ],
      "source": [
        "print(\"Informasi df_day:\")\n",
        "print(df_day.info())"
      ]
    },
    {
      "cell_type": "markdown",
      "metadata": {
        "id": "MMi6xGaDkbCi"
      },
      "source": [
        "**Insight:**\n",
        "- Dataset berisi data penyewaan sepeda harian dari tahun 2011 hingga 2012 dengan total 731 baris (hari).\n",
        "- Pengguna dibagi menjadi dua kategori yaitu :\n",
        "   - Casual (tidak terdaftar)\n",
        "   - Registered (terdaftar)\n",
        "- Faktor cuaca dan musim dapat memengaruhi jumlah penyewaan sepeda"
      ]
    },
    {
      "cell_type": "markdown",
      "metadata": {
        "id": "FHSiqaZp8DC1"
      },
      "source": [
        "### Assessing Data"
      ]
    },
    {
      "cell_type": "markdown",
      "metadata": {
        "id": "2iCOD1Z9Fpg_"
      },
      "source": [
        "#### Melihat Informasi Umum Dataset"
      ]
    },
    {
      "cell_type": "code",
      "execution_count": 14,
      "metadata": {
        "colab": {
          "base_uri": "https://localhost:8080/"
        },
        "id": "ax-3tEjc9Cj1",
        "outputId": "6125f71a-3ee1-4b12-d07c-67a0718c5bf3"
      },
      "outputs": [
        {
          "name": "stdout",
          "output_type": "stream",
          "text": [
            "<class 'pandas.core.frame.DataFrame'>\n",
            "RangeIndex: 731 entries, 0 to 730\n",
            "Data columns (total 16 columns):\n",
            " #   Column      Non-Null Count  Dtype  \n",
            "---  ------      --------------  -----  \n",
            " 0   instant     731 non-null    int64  \n",
            " 1   dteday      731 non-null    object \n",
            " 2   season      731 non-null    int64  \n",
            " 3   yr          731 non-null    int64  \n",
            " 4   mnth        731 non-null    int64  \n",
            " 5   holiday     731 non-null    int64  \n",
            " 6   weekday     731 non-null    int64  \n",
            " 7   workingday  731 non-null    int64  \n",
            " 8   weathersit  731 non-null    int64  \n",
            " 9   temp        731 non-null    float64\n",
            " 10  atemp       731 non-null    float64\n",
            " 11  hum         731 non-null    float64\n",
            " 12  windspeed   731 non-null    float64\n",
            " 13  casual      731 non-null    int64  \n",
            " 14  registered  731 non-null    int64  \n",
            " 15  cnt         731 non-null    int64  \n",
            "dtypes: float64(4), int64(11), object(1)\n",
            "memory usage: 91.5+ KB\n"
          ]
        }
      ],
      "source": [
        "df_day.info()"
      ]
    },
    {
      "cell_type": "markdown",
      "metadata": {
        "id": "SiJj37AsF0FA"
      },
      "source": [
        "#### Mengecek Missing Values"
      ]
    },
    {
      "cell_type": "code",
      "execution_count": 15,
      "metadata": {
        "colab": {
          "base_uri": "https://localhost:8080/",
          "height": 585
        },
        "id": "8Zew2Cu6GQie",
        "outputId": "fbf86bdb-ccab-4cb4-ea4e-2fb31a373395"
      },
      "outputs": [
        {
          "data": {
            "text/plain": [
              "instant       0\n",
              "dteday        0\n",
              "season        0\n",
              "yr            0\n",
              "mnth          0\n",
              "holiday       0\n",
              "weekday       0\n",
              "workingday    0\n",
              "weathersit    0\n",
              "temp          0\n",
              "atemp         0\n",
              "hum           0\n",
              "windspeed     0\n",
              "casual        0\n",
              "registered    0\n",
              "cnt           0\n",
              "dtype: int64"
            ]
          },
          "execution_count": 15,
          "metadata": {},
          "output_type": "execute_result"
        }
      ],
      "source": [
        "df_day.isnull().sum()"
      ]
    },
    {
      "cell_type": "markdown",
      "metadata": {
        "id": "BGkZDrDCGXzd"
      },
      "source": [
        "#### Mengecek Data Duplikat"
      ]
    },
    {
      "cell_type": "code",
      "execution_count": 16,
      "metadata": {
        "colab": {
          "base_uri": "https://localhost:8080/"
        },
        "id": "QO3JlhRuGcD3",
        "outputId": "7c867b6e-5ae1-467b-9396-47ddd44c2364"
      },
      "outputs": [
        {
          "data": {
            "text/plain": [
              "np.int64(0)"
            ]
          },
          "execution_count": 16,
          "metadata": {},
          "output_type": "execute_result"
        }
      ],
      "source": [
        "df_day.duplicated().sum()"
      ]
    },
    {
      "cell_type": "markdown",
      "metadata": {
        "id": "3gLDHOMkGgqK"
      },
      "source": [
        "#### Statistik Deskriptif"
      ]
    },
    {
      "cell_type": "code",
      "execution_count": 17,
      "metadata": {
        "colab": {
          "base_uri": "https://localhost:8080/",
          "height": 320
        },
        "id": "d08n_fbDGknz",
        "outputId": "fbaa3cf5-64cc-42fd-cb76-331819749149"
      },
      "outputs": [
        {
          "data": {
            "text/html": [
              "<div>\n",
              "<style scoped>\n",
              "    .dataframe tbody tr th:only-of-type {\n",
              "        vertical-align: middle;\n",
              "    }\n",
              "\n",
              "    .dataframe tbody tr th {\n",
              "        vertical-align: top;\n",
              "    }\n",
              "\n",
              "    .dataframe thead th {\n",
              "        text-align: right;\n",
              "    }\n",
              "</style>\n",
              "<table border=\"1\" class=\"dataframe\">\n",
              "  <thead>\n",
              "    <tr style=\"text-align: right;\">\n",
              "      <th></th>\n",
              "      <th>instant</th>\n",
              "      <th>season</th>\n",
              "      <th>yr</th>\n",
              "      <th>mnth</th>\n",
              "      <th>holiday</th>\n",
              "      <th>weekday</th>\n",
              "      <th>workingday</th>\n",
              "      <th>weathersit</th>\n",
              "      <th>temp</th>\n",
              "      <th>atemp</th>\n",
              "      <th>hum</th>\n",
              "      <th>windspeed</th>\n",
              "      <th>casual</th>\n",
              "      <th>registered</th>\n",
              "      <th>cnt</th>\n",
              "    </tr>\n",
              "  </thead>\n",
              "  <tbody>\n",
              "    <tr>\n",
              "      <th>count</th>\n",
              "      <td>731.000000</td>\n",
              "      <td>731.000000</td>\n",
              "      <td>731.000000</td>\n",
              "      <td>731.000000</td>\n",
              "      <td>731.000000</td>\n",
              "      <td>731.000000</td>\n",
              "      <td>731.000000</td>\n",
              "      <td>731.000000</td>\n",
              "      <td>731.000000</td>\n",
              "      <td>731.000000</td>\n",
              "      <td>731.000000</td>\n",
              "      <td>731.000000</td>\n",
              "      <td>731.000000</td>\n",
              "      <td>731.000000</td>\n",
              "      <td>731.000000</td>\n",
              "    </tr>\n",
              "    <tr>\n",
              "      <th>mean</th>\n",
              "      <td>366.000000</td>\n",
              "      <td>2.496580</td>\n",
              "      <td>0.500684</td>\n",
              "      <td>6.519836</td>\n",
              "      <td>0.028728</td>\n",
              "      <td>2.997264</td>\n",
              "      <td>0.683995</td>\n",
              "      <td>1.395349</td>\n",
              "      <td>0.495385</td>\n",
              "      <td>0.474354</td>\n",
              "      <td>0.627894</td>\n",
              "      <td>0.190486</td>\n",
              "      <td>848.176471</td>\n",
              "      <td>3656.172367</td>\n",
              "      <td>4504.348837</td>\n",
              "    </tr>\n",
              "    <tr>\n",
              "      <th>std</th>\n",
              "      <td>211.165812</td>\n",
              "      <td>1.110807</td>\n",
              "      <td>0.500342</td>\n",
              "      <td>3.451913</td>\n",
              "      <td>0.167155</td>\n",
              "      <td>2.004787</td>\n",
              "      <td>0.465233</td>\n",
              "      <td>0.544894</td>\n",
              "      <td>0.183051</td>\n",
              "      <td>0.162961</td>\n",
              "      <td>0.142429</td>\n",
              "      <td>0.077498</td>\n",
              "      <td>686.622488</td>\n",
              "      <td>1560.256377</td>\n",
              "      <td>1937.211452</td>\n",
              "    </tr>\n",
              "    <tr>\n",
              "      <th>min</th>\n",
              "      <td>1.000000</td>\n",
              "      <td>1.000000</td>\n",
              "      <td>0.000000</td>\n",
              "      <td>1.000000</td>\n",
              "      <td>0.000000</td>\n",
              "      <td>0.000000</td>\n",
              "      <td>0.000000</td>\n",
              "      <td>1.000000</td>\n",
              "      <td>0.059130</td>\n",
              "      <td>0.079070</td>\n",
              "      <td>0.000000</td>\n",
              "      <td>0.022392</td>\n",
              "      <td>2.000000</td>\n",
              "      <td>20.000000</td>\n",
              "      <td>22.000000</td>\n",
              "    </tr>\n",
              "    <tr>\n",
              "      <th>25%</th>\n",
              "      <td>183.500000</td>\n",
              "      <td>2.000000</td>\n",
              "      <td>0.000000</td>\n",
              "      <td>4.000000</td>\n",
              "      <td>0.000000</td>\n",
              "      <td>1.000000</td>\n",
              "      <td>0.000000</td>\n",
              "      <td>1.000000</td>\n",
              "      <td>0.337083</td>\n",
              "      <td>0.337842</td>\n",
              "      <td>0.520000</td>\n",
              "      <td>0.134950</td>\n",
              "      <td>315.500000</td>\n",
              "      <td>2497.000000</td>\n",
              "      <td>3152.000000</td>\n",
              "    </tr>\n",
              "    <tr>\n",
              "      <th>50%</th>\n",
              "      <td>366.000000</td>\n",
              "      <td>3.000000</td>\n",
              "      <td>1.000000</td>\n",
              "      <td>7.000000</td>\n",
              "      <td>0.000000</td>\n",
              "      <td>3.000000</td>\n",
              "      <td>1.000000</td>\n",
              "      <td>1.000000</td>\n",
              "      <td>0.498333</td>\n",
              "      <td>0.486733</td>\n",
              "      <td>0.626667</td>\n",
              "      <td>0.180975</td>\n",
              "      <td>713.000000</td>\n",
              "      <td>3662.000000</td>\n",
              "      <td>4548.000000</td>\n",
              "    </tr>\n",
              "    <tr>\n",
              "      <th>75%</th>\n",
              "      <td>548.500000</td>\n",
              "      <td>3.000000</td>\n",
              "      <td>1.000000</td>\n",
              "      <td>10.000000</td>\n",
              "      <td>0.000000</td>\n",
              "      <td>5.000000</td>\n",
              "      <td>1.000000</td>\n",
              "      <td>2.000000</td>\n",
              "      <td>0.655417</td>\n",
              "      <td>0.608602</td>\n",
              "      <td>0.730209</td>\n",
              "      <td>0.233214</td>\n",
              "      <td>1096.000000</td>\n",
              "      <td>4776.500000</td>\n",
              "      <td>5956.000000</td>\n",
              "    </tr>\n",
              "    <tr>\n",
              "      <th>max</th>\n",
              "      <td>731.000000</td>\n",
              "      <td>4.000000</td>\n",
              "      <td>1.000000</td>\n",
              "      <td>12.000000</td>\n",
              "      <td>1.000000</td>\n",
              "      <td>6.000000</td>\n",
              "      <td>1.000000</td>\n",
              "      <td>3.000000</td>\n",
              "      <td>0.861667</td>\n",
              "      <td>0.840896</td>\n",
              "      <td>0.972500</td>\n",
              "      <td>0.507463</td>\n",
              "      <td>3410.000000</td>\n",
              "      <td>6946.000000</td>\n",
              "      <td>8714.000000</td>\n",
              "    </tr>\n",
              "  </tbody>\n",
              "</table>\n",
              "</div>"
            ],
            "text/plain": [
              "          instant      season          yr        mnth     holiday     weekday  \\\n",
              "count  731.000000  731.000000  731.000000  731.000000  731.000000  731.000000   \n",
              "mean   366.000000    2.496580    0.500684    6.519836    0.028728    2.997264   \n",
              "std    211.165812    1.110807    0.500342    3.451913    0.167155    2.004787   \n",
              "min      1.000000    1.000000    0.000000    1.000000    0.000000    0.000000   \n",
              "25%    183.500000    2.000000    0.000000    4.000000    0.000000    1.000000   \n",
              "50%    366.000000    3.000000    1.000000    7.000000    0.000000    3.000000   \n",
              "75%    548.500000    3.000000    1.000000   10.000000    0.000000    5.000000   \n",
              "max    731.000000    4.000000    1.000000   12.000000    1.000000    6.000000   \n",
              "\n",
              "       workingday  weathersit        temp       atemp         hum   windspeed  \\\n",
              "count  731.000000  731.000000  731.000000  731.000000  731.000000  731.000000   \n",
              "mean     0.683995    1.395349    0.495385    0.474354    0.627894    0.190486   \n",
              "std      0.465233    0.544894    0.183051    0.162961    0.142429    0.077498   \n",
              "min      0.000000    1.000000    0.059130    0.079070    0.000000    0.022392   \n",
              "25%      0.000000    1.000000    0.337083    0.337842    0.520000    0.134950   \n",
              "50%      1.000000    1.000000    0.498333    0.486733    0.626667    0.180975   \n",
              "75%      1.000000    2.000000    0.655417    0.608602    0.730209    0.233214   \n",
              "max      1.000000    3.000000    0.861667    0.840896    0.972500    0.507463   \n",
              "\n",
              "            casual   registered          cnt  \n",
              "count   731.000000   731.000000   731.000000  \n",
              "mean    848.176471  3656.172367  4504.348837  \n",
              "std     686.622488  1560.256377  1937.211452  \n",
              "min       2.000000    20.000000    22.000000  \n",
              "25%     315.500000  2497.000000  3152.000000  \n",
              "50%     713.000000  3662.000000  4548.000000  \n",
              "75%    1096.000000  4776.500000  5956.000000  \n",
              "max    3410.000000  6946.000000  8714.000000  "
            ]
          },
          "execution_count": 17,
          "metadata": {},
          "output_type": "execute_result"
        }
      ],
      "source": [
        "df_day.describe()"
      ]
    },
    {
      "cell_type": "markdown",
      "metadata": {
        "id": "ih5ejbMHGoPi"
      },
      "source": [
        "#### Mengecek Distribusi Data"
      ]
    },
    {
      "cell_type": "code",
      "execution_count": 18,
      "metadata": {
        "colab": {
          "base_uri": "https://localhost:8080/",
          "height": 699
        },
        "id": "CZ7S0a_1GrAY",
        "outputId": "8b9afdaa-ddae-449a-ce59-49b36f0d2ddb"
      },
      "outputs": [
        {
          "data": {
            "image/png": "[encoded data removed]",
            "text/plain": [
              "<Figure size 1200x800 with 16 Axes>"
            ]
          },
          "metadata": {},
          "output_type": "display_data"
        }
      ],
      "source": [
        "df_day.hist(figsize=(12, 8), bins=30)\n",
        "plt.show()"
      ]
    },
    {
      "cell_type": "markdown",
      "metadata": {
        "id": "7dtxhAPrkhPL"
      },
      "source": [
        "**Insight:**\n",
        "- Tidak ada missing values, artinya data sudah lengkap dan tidak memerlukan imputasi.\n",
        "- Variabel kategori dikodekan sebagai angka (misalnya season, weathersit), sehingga perlu dikonversi ke label yang lebih mudah dipahami.\n",
        "- Beberapa kolom memiliki skala berbeda, misalnya temp disajikan dalam skala normalisasi (0-1), sedangkan cnt dalam jumlah asli penyewaan.\n",
        "- Perlu eksplorasi lebih lanjut untuk outlier, terutama di jumlah penyewaan (cnt), suhu (temp), dan faktor cuaca.\n",
        "- Kolom instant tidak terlalu diperlukan"
      ]
    },
    {
      "cell_type": "markdown",
      "metadata": {
        "id": "EhN5R4hr8DC1"
      },
      "source": [
        "### Cleaning Data"
      ]
    },
    {
      "cell_type": "markdown",
      "metadata": {
        "id": "KCvMvWONH58p"
      },
      "source": [
        "#### Mengubah kode kategori menjadi label asli"
      ]
    },
    {
      "cell_type": "code",
      "execution_count": 19,
      "metadata": {
        "id": "jVnYpprE9Evz"
      },
      "outputs": [],
      "source": [
        "df_day['season'] = df_day['season'].map({1: 'Spring', 2: 'Summer', 3: 'Fall', 4: 'Winter'})\n",
        "df_day['weathersit'] = df_day['weathersit'].map({1: 'Clear', 2: 'Cloudy', 3: 'Light Rain/Snow', 4: 'Heavy Rain/Snow'})\n",
        "df_day['yr'] = df_day['yr'].map({0: '2011', 1: '2012'})"
      ]
    },
    {
      "cell_type": "markdown",
      "metadata": {
        "id": "X6MGrv6ZICjk"
      },
      "source": [
        "#### Konversi dteday ke tipe datetime"
      ]
    },
    {
      "cell_type": "code",
      "execution_count": 20,
      "metadata": {
        "id": "PvYsUUB7II8U"
      },
      "outputs": [],
      "source": [
        "df_day['dteday'] = pd.to_datetime(df_day['dteday'])"
      ]
    },
    {
      "cell_type": "markdown",
      "metadata": {
        "id": "IMoRg80nIUOa"
      },
      "source": [
        "#### Menghapus Kolom yang tidak diperlukan (instant)"
      ]
    },
    {
      "cell_type": "code",
      "execution_count": 21,
      "metadata": {
        "id": "36DNGuW_IbGS"
      },
      "outputs": [],
      "source": [
        "df_day.drop(columns=['instant'], inplace=True)"
      ]
    },
    {
      "cell_type": "markdown",
      "metadata": {
        "id": "xDCskCYoIgit"
      },
      "source": [
        "#### Konversi skala suhu dan kelembaban ke skala yang lebih nyata :\n",
        "  - suhu menjadi celcius\n",
        "  - kelembaban dalam persen"
      ]
    },
    {
      "cell_type": "code",
      "execution_count": 22,
      "metadata": {
        "id": "Utjp3PRkIrnC"
      },
      "outputs": [],
      "source": [
        "df_day['temp'] = df_day['temp'] * 41\n",
        "df_day['hum'] = df_day['hum'] * 100"
      ]
    },
    {
      "cell_type": "markdown",
      "metadata": {
        "id": "jW6MRBJmI8A5"
      },
      "source": [
        "#### Hasil Perubahan"
      ]
    },
    {
      "cell_type": "code",
      "execution_count": 23,
      "metadata": {
        "colab": {
          "base_uri": "https://localhost:8080/",
          "height": 206
        },
        "id": "NDjqDZjyI-Yl",
        "outputId": "8bb1a94e-2ca0-4bdf-fe2f-501baa2e6c84"
      },
      "outputs": [
        {
          "data": {
            "text/html": [
              "<div>\n",
              "<style scoped>\n",
              "    .dataframe tbody tr th:only-of-type {\n",
              "        vertical-align: middle;\n",
              "    }\n",
              "\n",
              "    .dataframe tbody tr th {\n",
              "        vertical-align: top;\n",
              "    }\n",
              "\n",
              "    .dataframe thead th {\n",
              "        text-align: right;\n",
              "    }\n",
              "</style>\n",
              "<table border=\"1\" class=\"dataframe\">\n",
              "  <thead>\n",
              "    <tr style=\"text-align: right;\">\n",
              "      <th></th>\n",
              "      <th>dteday</th>\n",
              "      <th>season</th>\n",
              "      <th>yr</th>\n",
              "      <th>mnth</th>\n",
              "      <th>holiday</th>\n",
              "      <th>weekday</th>\n",
              "      <th>workingday</th>\n",
              "      <th>weathersit</th>\n",
              "      <th>temp</th>\n",
              "      <th>atemp</th>\n",
              "      <th>hum</th>\n",
              "      <th>windspeed</th>\n",
              "      <th>casual</th>\n",
              "      <th>registered</th>\n",
              "      <th>cnt</th>\n",
              "    </tr>\n",
              "  </thead>\n",
              "  <tbody>\n",
              "    <tr>\n",
              "      <th>0</th>\n",
              "      <td>2011-01-01</td>\n",
              "      <td>Spring</td>\n",
              "      <td>2011</td>\n",
              "      <td>1</td>\n",
              "      <td>0</td>\n",
              "      <td>6</td>\n",
              "      <td>0</td>\n",
              "      <td>Cloudy</td>\n",
              "      <td>14.110847</td>\n",
              "      <td>0.363625</td>\n",
              "      <td>80.5833</td>\n",
              "      <td>0.160446</td>\n",
              "      <td>331</td>\n",
              "      <td>654</td>\n",
              "      <td>985</td>\n",
              "    </tr>\n",
              "    <tr>\n",
              "      <th>1</th>\n",
              "      <td>2011-01-02</td>\n",
              "      <td>Spring</td>\n",
              "      <td>2011</td>\n",
              "      <td>1</td>\n",
              "      <td>0</td>\n",
              "      <td>0</td>\n",
              "      <td>0</td>\n",
              "      <td>Cloudy</td>\n",
              "      <td>14.902598</td>\n",
              "      <td>0.353739</td>\n",
              "      <td>69.6087</td>\n",
              "      <td>0.248539</td>\n",
              "      <td>131</td>\n",
              "      <td>670</td>\n",
              "      <td>801</td>\n",
              "    </tr>\n",
              "    <tr>\n",
              "      <th>2</th>\n",
              "      <td>2011-01-03</td>\n",
              "      <td>Spring</td>\n",
              "      <td>2011</td>\n",
              "      <td>1</td>\n",
              "      <td>0</td>\n",
              "      <td>1</td>\n",
              "      <td>1</td>\n",
              "      <td>Clear</td>\n",
              "      <td>8.050924</td>\n",
              "      <td>0.189405</td>\n",
              "      <td>43.7273</td>\n",
              "      <td>0.248309</td>\n",
              "      <td>120</td>\n",
              "      <td>1229</td>\n",
              "      <td>1349</td>\n",
              "    </tr>\n",
              "    <tr>\n",
              "      <th>3</th>\n",
              "      <td>2011-01-04</td>\n",
              "      <td>Spring</td>\n",
              "      <td>2011</td>\n",
              "      <td>1</td>\n",
              "      <td>0</td>\n",
              "      <td>2</td>\n",
              "      <td>1</td>\n",
              "      <td>Clear</td>\n",
              "      <td>8.200000</td>\n",
              "      <td>0.212122</td>\n",
              "      <td>59.0435</td>\n",
              "      <td>0.160296</td>\n",
              "      <td>108</td>\n",
              "      <td>1454</td>\n",
              "      <td>1562</td>\n",
              "    </tr>\n",
              "    <tr>\n",
              "      <th>4</th>\n",
              "      <td>2011-01-05</td>\n",
              "      <td>Spring</td>\n",
              "      <td>2011</td>\n",
              "      <td>1</td>\n",
              "      <td>0</td>\n",
              "      <td>3</td>\n",
              "      <td>1</td>\n",
              "      <td>Clear</td>\n",
              "      <td>9.305237</td>\n",
              "      <td>0.229270</td>\n",
              "      <td>43.6957</td>\n",
              "      <td>0.186900</td>\n",
              "      <td>82</td>\n",
              "      <td>1518</td>\n",
              "      <td>1600</td>\n",
              "    </tr>\n",
              "  </tbody>\n",
              "</table>\n",
              "</div>"
            ],
            "text/plain": [
              "      dteday  season    yr  mnth  holiday  weekday  workingday weathersit  \\\n",
              "0 2011-01-01  Spring  2011     1        0        6           0     Cloudy   \n",
              "1 2011-01-02  Spring  2011     1        0        0           0     Cloudy   \n",
              "2 2011-01-03  Spring  2011     1        0        1           1      Clear   \n",
              "3 2011-01-04  Spring  2011     1        0        2           1      Clear   \n",
              "4 2011-01-05  Spring  2011     1        0        3           1      Clear   \n",
              "\n",
              "        temp     atemp      hum  windspeed  casual  registered   cnt  \n",
              "0  14.110847  0.363625  80.5833   0.160446     331         654   985  \n",
              "1  14.902598  0.353739  69.6087   0.248539     131         670   801  \n",
              "2   8.050924  0.189405  43.7273   0.248309     120        1229  1349  \n",
              "3   8.200000  0.212122  59.0435   0.160296     108        1454  1562  \n",
              "4   9.305237  0.229270  43.6957   0.186900      82        1518  1600  "
            ]
          },
          "execution_count": 23,
          "metadata": {},
          "output_type": "execute_result"
        }
      ],
      "source": [
        "df_day.head()"
      ]
    },
    {
      "cell_type": "markdown",
      "metadata": {
        "id": "Q_5ejIqckiSP"
      },
      "source": [
        "**Insight:**\n",
        "- Mengubah kode kategori menjadi label asli\n",
        "- Menghapus kolom instant\n",
        "- Mengkonversi dteday dari object menjadi datetime\n",
        "- Skala pada beberapa variabel cuaca (temp, atemp, hum, windspeed) bukan dalam satuan asli sehingga bisa dipertimbangkan untuk dikonversi ke skala yang lebih interpretatif (misalnya suhu dalam derajat Celcius)."
      ]
    },
    {
      "cell_type": "markdown",
      "metadata": {
        "id": "gp-Y6wU38DC1"
      },
      "source": [
        "## Exploratory Data Analysis (EDA)"
      ]
    },
    {
      "cell_type": "markdown",
      "metadata": {
        "id": "MW7WF2kr8DC1"
      },
      "source": [
        "### Explore ..."
      ]
    },
    {
      "cell_type": "code",
      "execution_count": 24,
      "metadata": {
        "colab": {
          "base_uri": "https://localhost:8080/",
          "height": 622
        },
        "id": "e9CQCZjk8DC2",
        "outputId": "88fd402d-b5c9-497f-db53-a9672a211516"
      },
      "outputs": [
        {
          "data": {
            "text/html": [
              "<div>\n",
              "<style scoped>\n",
              "    .dataframe tbody tr th:only-of-type {\n",
              "        vertical-align: middle;\n",
              "    }\n",
              "\n",
              "    .dataframe tbody tr th {\n",
              "        vertical-align: top;\n",
              "    }\n",
              "\n",
              "    .dataframe thead th {\n",
              "        text-align: right;\n",
              "    }\n",
              "</style>\n",
              "<table border=\"1\" class=\"dataframe\">\n",
              "  <thead>\n",
              "    <tr style=\"text-align: right;\">\n",
              "      <th></th>\n",
              "      <th>dteday</th>\n",
              "      <th>season</th>\n",
              "      <th>yr</th>\n",
              "      <th>mnth</th>\n",
              "      <th>holiday</th>\n",
              "      <th>weekday</th>\n",
              "      <th>workingday</th>\n",
              "      <th>weathersit</th>\n",
              "      <th>temp</th>\n",
              "      <th>atemp</th>\n",
              "      <th>hum</th>\n",
              "      <th>windspeed</th>\n",
              "      <th>casual</th>\n",
              "      <th>registered</th>\n",
              "      <th>cnt</th>\n",
              "    </tr>\n",
              "  </thead>\n",
              "  <tbody>\n",
              "    <tr>\n",
              "      <th>count</th>\n",
              "      <td>731</td>\n",
              "      <td>731</td>\n",
              "      <td>731</td>\n",
              "      <td>731.000000</td>\n",
              "      <td>731.000000</td>\n",
              "      <td>731.000000</td>\n",
              "      <td>731.000000</td>\n",
              "      <td>731</td>\n",
              "      <td>731.000000</td>\n",
              "      <td>731.000000</td>\n",
              "      <td>731.000000</td>\n",
              "      <td>731.000000</td>\n",
              "      <td>731.000000</td>\n",
              "      <td>731.000000</td>\n",
              "      <td>731.000000</td>\n",
              "    </tr>\n",
              "    <tr>\n",
              "      <th>unique</th>\n",
              "      <td>NaN</td>\n",
              "      <td>4</td>\n",
              "      <td>2</td>\n",
              "      <td>NaN</td>\n",
              "      <td>NaN</td>\n",
              "      <td>NaN</td>\n",
              "      <td>NaN</td>\n",
              "      <td>3</td>\n",
              "      <td>NaN</td>\n",
              "      <td>NaN</td>\n",
              "      <td>NaN</td>\n",
              "      <td>NaN</td>\n",
              "      <td>NaN</td>\n",
              "      <td>NaN</td>\n",
              "      <td>NaN</td>\n",
              "    </tr>\n",
              "    <tr>\n",
              "      <th>top</th>\n",
              "      <td>NaN</td>\n",
              "      <td>Fall</td>\n",
              "      <td>2012</td>\n",
              "      <td>NaN</td>\n",
              "      <td>NaN</td>\n",
              "      <td>NaN</td>\n",
              "      <td>NaN</td>\n",
              "      <td>Clear</td>\n",
              "      <td>NaN</td>\n",
              "      <td>NaN</td>\n",
              "      <td>NaN</td>\n",
              "      <td>NaN</td>\n",
              "      <td>NaN</td>\n",
              "      <td>NaN</td>\n",
              "      <td>NaN</td>\n",
              "    </tr>\n",
              "    <tr>\n",
              "      <th>freq</th>\n",
              "      <td>NaN</td>\n",
              "      <td>188</td>\n",
              "      <td>366</td>\n",
              "      <td>NaN</td>\n",
              "      <td>NaN</td>\n",
              "      <td>NaN</td>\n",
              "      <td>NaN</td>\n",
              "      <td>463</td>\n",
              "      <td>NaN</td>\n",
              "      <td>NaN</td>\n",
              "      <td>NaN</td>\n",
              "      <td>NaN</td>\n",
              "      <td>NaN</td>\n",
              "      <td>NaN</td>\n",
              "      <td>NaN</td>\n",
              "    </tr>\n",
              "    <tr>\n",
              "      <th>mean</th>\n",
              "      <td>2012-01-01 00:00:00</td>\n",
              "      <td>NaN</td>\n",
              "      <td>NaN</td>\n",
              "      <td>6.519836</td>\n",
              "      <td>0.028728</td>\n",
              "      <td>2.997264</td>\n",
              "      <td>0.683995</td>\n",
              "      <td>NaN</td>\n",
              "      <td>20.310776</td>\n",
              "      <td>0.474354</td>\n",
              "      <td>62.789406</td>\n",
              "      <td>0.190486</td>\n",
              "      <td>848.176471</td>\n",
              "      <td>3656.172367</td>\n",
              "      <td>4504.348837</td>\n",
              "    </tr>\n",
              "    <tr>\n",
              "      <th>min</th>\n",
              "      <td>2011-01-01 00:00:00</td>\n",
              "      <td>NaN</td>\n",
              "      <td>NaN</td>\n",
              "      <td>1.000000</td>\n",
              "      <td>0.000000</td>\n",
              "      <td>0.000000</td>\n",
              "      <td>0.000000</td>\n",
              "      <td>NaN</td>\n",
              "      <td>2.424346</td>\n",
              "      <td>0.079070</td>\n",
              "      <td>0.000000</td>\n",
              "      <td>0.022392</td>\n",
              "      <td>2.000000</td>\n",
              "      <td>20.000000</td>\n",
              "      <td>22.000000</td>\n",
              "    </tr>\n",
              "    <tr>\n",
              "      <th>25%</th>\n",
              "      <td>2011-07-02 12:00:00</td>\n",
              "      <td>NaN</td>\n",
              "      <td>NaN</td>\n",
              "      <td>4.000000</td>\n",
              "      <td>0.000000</td>\n",
              "      <td>1.000000</td>\n",
              "      <td>0.000000</td>\n",
              "      <td>NaN</td>\n",
              "      <td>13.820424</td>\n",
              "      <td>0.337842</td>\n",
              "      <td>52.000000</td>\n",
              "      <td>0.134950</td>\n",
              "      <td>315.500000</td>\n",
              "      <td>2497.000000</td>\n",
              "      <td>3152.000000</td>\n",
              "    </tr>\n",
              "    <tr>\n",
              "      <th>50%</th>\n",
              "      <td>2012-01-01 00:00:00</td>\n",
              "      <td>NaN</td>\n",
              "      <td>NaN</td>\n",
              "      <td>7.000000</td>\n",
              "      <td>0.000000</td>\n",
              "      <td>3.000000</td>\n",
              "      <td>1.000000</td>\n",
              "      <td>NaN</td>\n",
              "      <td>20.431653</td>\n",
              "      <td>0.486733</td>\n",
              "      <td>62.666700</td>\n",
              "      <td>0.180975</td>\n",
              "      <td>713.000000</td>\n",
              "      <td>3662.000000</td>\n",
              "      <td>4548.000000</td>\n",
              "    </tr>\n",
              "    <tr>\n",
              "      <th>75%</th>\n",
              "      <td>2012-07-01 12:00:00</td>\n",
              "      <td>NaN</td>\n",
              "      <td>NaN</td>\n",
              "      <td>10.000000</td>\n",
              "      <td>0.000000</td>\n",
              "      <td>5.000000</td>\n",
              "      <td>1.000000</td>\n",
              "      <td>NaN</td>\n",
              "      <td>26.872076</td>\n",
              "      <td>0.608602</td>\n",
              "      <td>73.020850</td>\n",
              "      <td>0.233214</td>\n",
              "      <td>1096.000000</td>\n",
              "      <td>4776.500000</td>\n",
              "      <td>5956.000000</td>\n",
              "    </tr>\n",
              "    <tr>\n",
              "      <th>max</th>\n",
              "      <td>2012-12-31 00:00:00</td>\n",
              "      <td>NaN</td>\n",
              "      <td>NaN</td>\n",
              "      <td>12.000000</td>\n",
              "      <td>1.000000</td>\n",
              "      <td>6.000000</td>\n",
              "      <td>1.000000</td>\n",
              "      <td>NaN</td>\n",
              "      <td>35.328347</td>\n",
              "      <td>0.840896</td>\n",
              "      <td>97.250000</td>\n",
              "      <td>0.507463</td>\n",
              "      <td>3410.000000</td>\n",
              "      <td>6946.000000</td>\n",
              "      <td>8714.000000</td>\n",
              "    </tr>\n",
              "    <tr>\n",
              "      <th>std</th>\n",
              "      <td>NaN</td>\n",
              "      <td>NaN</td>\n",
              "      <td>NaN</td>\n",
              "      <td>3.451913</td>\n",
              "      <td>0.167155</td>\n",
              "      <td>2.004787</td>\n",
              "      <td>0.465233</td>\n",
              "      <td>NaN</td>\n",
              "      <td>7.505091</td>\n",
              "      <td>0.162961</td>\n",
              "      <td>14.242910</td>\n",
              "      <td>0.077498</td>\n",
              "      <td>686.622488</td>\n",
              "      <td>1560.256377</td>\n",
              "      <td>1937.211452</td>\n",
              "    </tr>\n",
              "  </tbody>\n",
              "</table>\n",
              "</div>"
            ],
            "text/plain": [
              "                     dteday season    yr        mnth     holiday     weekday  \\\n",
              "count                   731    731   731  731.000000  731.000000  731.000000   \n",
              "unique                  NaN      4     2         NaN         NaN         NaN   \n",
              "top                     NaN   Fall  2012         NaN         NaN         NaN   \n",
              "freq                    NaN    188   366         NaN         NaN         NaN   \n",
              "mean    2012-01-01 00:00:00    NaN   NaN    6.519836    0.028728    2.997264   \n",
              "min     2011-01-01 00:00:00    NaN   NaN    1.000000    0.000000    0.000000   \n",
              "25%     2011-07-02 12:00:00    NaN   NaN    4.000000    0.000000    1.000000   \n",
              "50%     2012-01-01 00:00:00    NaN   NaN    7.000000    0.000000    3.000000   \n",
              "75%     2012-07-01 12:00:00    NaN   NaN   10.000000    0.000000    5.000000   \n",
              "max     2012-12-31 00:00:00    NaN   NaN   12.000000    1.000000    6.000000   \n",
              "std                     NaN    NaN   NaN    3.451913    0.167155    2.004787   \n",
              "\n",
              "        workingday weathersit        temp       atemp         hum   windspeed  \\\n",
              "count   731.000000        731  731.000000  731.000000  731.000000  731.000000   \n",
              "unique         NaN          3         NaN         NaN         NaN         NaN   \n",
              "top            NaN      Clear         NaN         NaN         NaN         NaN   \n",
              "freq           NaN        463         NaN         NaN         NaN         NaN   \n",
              "mean      0.683995        NaN   20.310776    0.474354   62.789406    0.190486   \n",
              "min       0.000000        NaN    2.424346    0.079070    0.000000    0.022392   \n",
              "25%       0.000000        NaN   13.820424    0.337842   52.000000    0.134950   \n",
              "50%       1.000000        NaN   20.431653    0.486733   62.666700    0.180975   \n",
              "75%       1.000000        NaN   26.872076    0.608602   73.020850    0.233214   \n",
              "max       1.000000        NaN   35.328347    0.840896   97.250000    0.507463   \n",
              "std       0.465233        NaN    7.505091    0.162961   14.242910    0.077498   \n",
              "\n",
              "             casual   registered          cnt  \n",
              "count    731.000000   731.000000   731.000000  \n",
              "unique          NaN          NaN          NaN  \n",
              "top             NaN          NaN          NaN  \n",
              "freq            NaN          NaN          NaN  \n",
              "mean     848.176471  3656.172367  4504.348837  \n",
              "min        2.000000    20.000000    22.000000  \n",
              "25%      315.500000  2497.000000  3152.000000  \n",
              "50%      713.000000  3662.000000  4548.000000  \n",
              "75%     1096.000000  4776.500000  5956.000000  \n",
              "max     3410.000000  6946.000000  8714.000000  \n",
              "std      686.622488  1560.256377  1937.211452  "
            ]
          },
          "execution_count": 24,
          "metadata": {},
          "output_type": "execute_result"
        }
      ],
      "source": [
        "df_day.describe(include=\"all\")"
      ]
    },
    {
      "cell_type": "markdown",
      "metadata": {
        "id": "th_Lzl2Fkj9O"
      },
      "source": [
        "**Insight:**\n",
        "- Kolom season (musim) terdapat 4 kategori musim dalam dataset\n",
        "- Fall (Musim Gugur) menjadi yang dominan dengan 188 hari\n",
        "- kolom yr (tahun) terdapat 2 yaitu 2011 dan 2012\n",
        "- kolom weathersit (kondisi cuaca) terdapat 3 kategori dalam dataset\n",
        "- Clear (cerah) menjadi yang dominan dengan 463 hari\n",
        "- Suhu (temp) berkisar antara 2.42°C - 35.33°C, dengan rata-rata 20.31°C.\n",
        "- Kelembaban (hum) bervariasi dari 0% - 97.25%, dengan rata-rata 62.79%.\n",
        "- Ada kemungkinan nilai 0% adalah anomali (tidak masuk akal kelembaban 0%).\n",
        "- Kecepatan angin (windspeed) bervariasi dari 0.02 - 0.51, dengan rata-rata 0.19."
      ]
    },
    {
      "cell_type": "markdown",
      "metadata": {
        "id": "zsyZjqak8DC2"
      },
      "source": [
        "## Visualization & Explanatory Analysis"
      ]
    },
    {
      "cell_type": "markdown",
      "metadata": {
        "id": "HZxOiQ6n8DC2"
      },
      "source": [
        "### Bagaimana pengaruh kondisi cuaca terhadap jumlah penyewaan sepeda selama tahun 2011 dan 2012?"
      ]
    },
    {
      "cell_type": "code",
      "execution_count": 25,
      "metadata": {
        "colab": {
          "base_uri": "https://localhost:8080/",
          "height": 487
        },
        "id": "1swJUdAD8DC2",
        "outputId": "b50d2bb3-32e7-411a-b9ea-e579eff5f79e"
      },
      "outputs": [
        {
          "data": {
            "image/png": "[encoded data removed]",
            "text/plain": [
              "<Figure size 800x500 with 1 Axes>"
            ]
          },
          "metadata": {},
          "output_type": "display_data"
        }
      ],
      "source": [
        "plt.figure(figsize=(8, 5))\n",
        "sns.boxplot(data=df_day, x=\"weathersit\", y=\"cnt\", hue=\"weathersit\", legend=False)\n",
        "plt.title(\"Penyewaan Sepeda Berdasarkan Cuaca\")\n",
        "plt.xlabel(\"Kondisi Cuaca\")\n",
        "plt.ylabel(\"Jumlah Penyewaan\")\n",
        "plt.xticks([0, 1, 2, 3], ['Clear', 'Mist/Cloudy', 'Light Rain/Snow', 'Heavy Rain/Snow'])\n",
        "plt.show()"
      ]
    },
    {
      "cell_type": "markdown",
      "metadata": {
        "id": "DgHI7CiU8DC2"
      },
      "source": [
        "### Apakah terdapat pola musiman atau tren waktu dalam penggunaan sepeda selama tahun 2011 dan 2012?"
      ]
    },
    {
      "cell_type": "code",
      "execution_count": 26,
      "metadata": {
        "colab": {
          "base_uri": "https://localhost:8080/",
          "height": 487
        },
        "id": "Go0lCsvO8DC2",
        "outputId": "290a4aa9-bfc1-41b8-bd72-115a148acc14"
      },
      "outputs": [
        {
          "data": {
            "image/png": "[encoded data removed]",
            "text/plain": [
              "<Figure size 1200x500 with 1 Axes>"
            ]
          },
          "metadata": {},
          "output_type": "display_data"
        }
      ],
      "source": [
        "df_day['year'] = df_day['dteday'].dt.year\n",
        "df_day['month'] = df_day['dteday'].dt.month\n",
        "plt.figure(figsize=(12, 5))\n",
        "sns.lineplot(data=df_day, x='month', y='cnt', hue='year', marker=\"o\")\n",
        "plt.title(\"Tren Penyewaan Sepeda per Bulan\")\n",
        "plt.xlabel(\"Bulan\")\n",
        "plt.ylabel(\"Jumlah Penyewaan\")\n",
        "plt.xticks(range(1, 13))\n",
        "plt.legend(title=\"Tahun\")\n",
        "plt.show()"
      ]
    },
    {
      "cell_type": "markdown",
      "metadata": {
        "id": "_0-36BDLklRg"
      },
      "source": [
        "**Insight:**\n",
        "- Kondisi cuaca sangat mempengaruhi jumlah penyewaan sepeda. Saat cuaca cerah atau berawan, penyewaan tetap tinggi, tetapi saat hujan atau salju ringan terjadi, penyewaan turun drastis. Kondisi cuaca ekstrem (hujan/salju deras) bahkan bisa membuat penyewaan nol.\n",
        "- Penggunaan sepeda memiliki pola musiman yang jelas, dengan tren meningkat di musim panas dan menurun di musim dingin. Selain itu, jumlah penyewaan sepeda pada tahun 2012 lebih tinggi dibandingkan 2011, menunjukkan pertumbuhan dalam penggunaan sepeda dari tahun ke tahun."
      ]
    },
    {
      "cell_type": "markdown",
      "metadata": {
        "id": "9y4VUsmcYNZ5"
      },
      "source": [
        "## Analisis Hubungan antar korelasi"
      ]
    },
    {
      "cell_type": "code",
      "execution_count": 27,
      "metadata": {
        "colab": {
          "base_uri": "https://localhost:8080/",
          "height": 545
        },
        "id": "iWhnzsJGYUCO",
        "outputId": "4f9afb7c-284f-4cc9-818b-1bb446a2f40c"
      },
      "outputs": [
        {
          "data": {
            "image/png": "[encoded data removed]",
            "text/plain": [
              "<Figure size 1000x600 with 2 Axes>"
            ]
          },
          "metadata": {},
          "output_type": "display_data"
        }
      ],
      "source": [
        "# Pilih hanya variabel numerik yang relevan untuk korelasi\n",
        "correlation_features = [\"temp\", \"atemp\", \"hum\", \"windspeed\", \"casual\", \"registered\", \"cnt\"]\n",
        "correlation_matrix = df_day[correlation_features].corr()\n",
        "\n",
        "# Plot heatmap korelasi\n",
        "plt.figure(figsize=(10, 6))\n",
        "sns.heatmap(correlation_matrix, annot=True, cmap=\"coolwarm\", fmt=\".2f\", linewidths=0.5)\n",
        "plt.title(\"Heatmap Korelasi Antar Variabel\")\n",
        "plt.show()"
      ]
    },
    {
      "cell_type": "markdown",
      "metadata": {
        "id": "anQX6Y4kSioX"
      },
      "source": [
        "**Insight:**\n",
        "- Faktor suhu udara dan pengguna terdaftar adalah indikator utama dalam memprediksi jumlah penyewaan sepeda.\n",
        "- Kondisi cuaca ekstrem seperti kelembaban tinggi dan angin kencang bisa sedikit menurunkan jumlah penyewaan.\n",
        "- Untuk meningkatkan jumlah penyewaan sepeda, strategi bisa difokuskan pada pengguna terdaftar dan memberikan insentif pada hari-hari dengan kondisi cuaca yang menguntungkan."
      ]
    },
    {
      "cell_type": "markdown",
      "metadata": {
        "id": "_WeHlCeX8DC2"
      },
      "source": [
        "## Conclusion"
      ]
    },
    {
      "cell_type": "markdown",
      "metadata": {
        "id": "ZTcyR48Y8DC2"
      },
      "source": [
        "1. Bagaimana pengaruh kondisi cuaca terhadap jumlah penyewaan sepeda selama tahun 2011 dan 2012?\n",
        "Cuaca memiliki pengaruh signifikan terhadap jumlah penyewaan sepeda.\n",
        "- Cuaca cerah (Clear) dan berawan ringan (Mist/Cloudy) memiliki jumlah penyewaan tertinggi.\n",
        "- Sebagian besar pengguna lebih nyaman bersepeda saat cuaca mendukung.\n",
        "- Median jumlah penyewaan cukup tinggi dalam kondisi ini, dengan distribusi data yang lebih luas.\n",
        "- Penyewaan turun drastis saat hujan ringan atau salju (Light Rain/Snow).\n",
        "- Hujan dan salju mengurangi kenyamanan bersepeda, menyebabkan penurunan signifikan.\n",
        "- Tidak ada atau hampir tidak ada penyewaan saat hujan atau salju lebat (Heavy Rain/Snow).\n",
        "- Kondisi cuaca ekstrem menjadi penghalang utama bagi pengguna sepeda.\n",
        "- Kesimpulan:\n",
        "Semakin buruk kondisi cuaca, semakin rendah jumlah penyewaan sepeda. Oleh karena itu, operator sepeda dapat mempertimbangkan strategi seperti diskon atau insentif saat cuaca kurang ideal untuk menjaga tingkat penyewaan.\n",
        "2. Apakah terdapat pola musiman atau tren waktu dalam penggunaan sepeda selama tahun 2011 dan 2012?\n",
        "- Terdapat pola musiman yang jelas dalam penggunaan sepeda selama tahun 2011 dan 2012.\n",
        "- Tren kenaikan jumlah penyewaan terjadi pada musim semi hingga musim panas (Maret - September).\n",
        "- Puncak penggunaan sepeda terjadi sekitar bulan Juni - September, menunjukkan bahwa orang lebih banyak bersepeda saat cuaca lebih hangat.\n",
        "Kenaikan ini konsisten di kedua tahun, dengan jumlah penyewaan lebih tinggi di tahun 2012 dibandingkan 2011.\n",
        "- Tren penurunan terlihat pada musim gugur hingga musim dingin (Oktober - Februari).\n",
        "- Jumlah penyewaan mulai menurun setelah September dan mencapai titik terendah pada bulan Desember - Januari.\n",
        "Ini menunjukkan bahwa suhu dingin dan kemungkinan cuaca buruk berkontribusi terhadap berkurangnya minat menggunakan sepeda.\n",
        "- Tahun 2012 menunjukkan jumlah penyewaan yang lebih tinggi dibandingkan 2011 sepanjang tahun.\n",
        "- Ini dapat menunjukkan peningkatan popularitas layanan penyewaan sepeda atau perbaikan infrastruktur yang mendukung penggunaan sepeda lebih luas.\n",
        "- Kesimpulan:\n",
        "Penggunaan sepeda menunjukkan pola musiman yang kuat, dengan jumlah penyewaan meningkat pada bulan-bulan hangat dan menurun saat musim dingin. Untuk meningkatkan penggunaan sepanjang tahun, operator dapat mempertimbangkan strategi seperti menyediakan perlengkapan musim dingin, promosi di bulan-bulan dingin, atau memperkenalkan rute yang lebih terlindungi dari cuaca buruk."
      ]
    }
  ],
  "metadata": {
    "colab": {
      "provenance": []
    },
    "kernelspec": {
      "display_name": "base",
      "language": "python",
      "name": "python3"
    },
    "language_info": {
      "codemirror_mode": {
        "name": "ipython",
        "version": 3
      },
      "file_extension": ".py",
      "mimetype": "text/x-python",
      "name": "python",
      "nbconvert_exporter": "python",
      "pygments_lexer": "ipython3",
      "version": "3.12.7"
    },
    "orig_nbformat": 4
  },
  "nbformat": 4,
  "nbformat_minor": 0
}
