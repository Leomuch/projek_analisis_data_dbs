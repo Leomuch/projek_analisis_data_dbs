{
  "nbformat": 4,
  "nbformat_minor": 0,
  "metadata": {
    "colab": {
      "provenance": [],
      "include_colab_link": true
    },
    "kernelspec": {
      "name": "python3",
      "display_name": "Python 3"
    },
    "language_info": {
      "name": "python"
    }
  },
  "cells": [
    {
      "cell_type": "markdown",
      "metadata": {
        "id": "view-in-github",
        "colab_type": "text"
      },
      "source": [
        "<a href=\"https://colab.research.google.com/github/Leomuch/projek_analisis_data_dbs/blob/main/Copy_of_%5BClustering%5D_Submission_Akhir_BMLP_Muchlas_Andrey_Pahlevi_(Updated).ipynb\" target=\"_parent\"><img src=\"https://colab.research.google.com/assets/colab-badge.svg\" alt=\"Open In Colab\"/></a>"
      ]
    },
    {
      "cell_type": "markdown",
      "source": [
        "# **1. Perkenalan Dataset**\n"
      ],
      "metadata": {
        "id": "kZLRMFl0JyyQ"
      }
    },
    {
      "cell_type": "markdown",
      "source": [
        "Tahap pertama, Anda harus mencari dan menggunakan dataset **tanpa label** dengan ketentuan sebagai berikut:\n",
        "\n",
        "1. **Sumber Dataset**:  \n",
        "   Dataset dapat diperoleh dari berbagai sumber, seperti public repositories (*Kaggle*, *UCI ML Repository*, *Open Data*) atau data primer yang Anda kumpulkan sendiri.\n",
        "   \n",
        "2. **Ketentuan Dataset**:\n",
        "   - **Tanpa label**: Dataset tidak boleh memiliki label atau kelas.\n",
        "   - **Jumlah Baris**: Minimal 1000 baris untuk memastikan dataset cukup besar untuk analisis yang bermakna.\n",
        "   - **Tipe Data**: Harus mengandung data **kategorikal** dan **numerikal**.\n",
        "     - *Kategorikal*: Misalnya jenis kelamin, kategori produk.\n",
        "     - *Numerikal*: Misalnya usia, pendapatan, harga.\n",
        "\n",
        "3. **Pembatasan**:  \n",
        "   Dataset yang sudah digunakan dalam latihan clustering (seperti customer segmentation) tidak boleh digunakan."
      ],
      "metadata": {
        "id": "hssSDn-5n3HR"
      }
    },
    {
      "cell_type": "markdown",
      "source": [
        "# **2. Import Library**"
      ],
      "metadata": {
        "id": "fKADPWcFKlj3"
      }
    },
    {
      "cell_type": "markdown",
      "source": [
        "Pada tahap ini, Anda perlu mengimpor beberapa pustaka (library) Python yang dibutuhkan untuk analisis data dan pembangunan model machine learning."
      ],
      "metadata": {
        "id": "LgA3ERnVn84N"
      }
    },
    {
      "cell_type": "code",
      "source": [
        "import numpy as np\n",
        "import pandas as pd\n",
        "import matplotlib.pyplot as plt\n",
        "import seaborn as sns\n",
        "import plotly as py\n",
        "import plotly.graph_objs as go\n",
        "from sklearn.preprocessing import LabelEncoder, StandardScaler\n",
        "from sklearn.feature_selection import VarianceThreshold\n",
        "from sklearn.decomposition import PCA\n",
        "from sklearn.metrics import silhouette_score\n",
        "from sklearn.cluster import KMeans"
      ],
      "metadata": {
        "id": "BlmvjLY9M4Yj"
      },
      "execution_count": 1,
      "outputs": []
    },
    {
      "cell_type": "markdown",
      "source": [
        "# **3. Memuat Dataset**"
      ],
      "metadata": {
        "id": "f3YIEnAFKrKL"
      }
    },
    {
      "cell_type": "markdown",
      "source": [
        "Pada tahap ini, Anda perlu memuat dataset ke dalam notebook. Jika dataset dalam format CSV, Anda bisa menggunakan pustaka pandas untuk membacanya. Pastikan untuk mengecek beberapa baris awal dataset untuk memahami strukturnya dan memastikan data telah dimuat dengan benar.\n",
        "\n",
        "Jika dataset berada di Google Drive, pastikan Anda menghubungkan Google Drive ke Colab terlebih dahulu. Setelah dataset berhasil dimuat, langkah berikutnya adalah memeriksa kesesuaian data dan siap untuk dianalisis lebih lanjut."
      ],
      "metadata": {
        "id": "Ey3ItwTen_7E"
      }
    },
    {
      "cell_type": "code",
      "source": [
        "women_in_data_science = \"UnlabeledWiDS2021.csv\"\n",
        "df = pd.read_csv(women_in_data_science)"
      ],
      "metadata": {
        "id": "GHCGNTyrM5fS"
      },
      "execution_count": 2,
      "outputs": []
    },
    {
      "cell_type": "markdown",
      "source": [
        "# **4. Exploratory Data Analysis (EDA)**\n",
        "\n",
        "Pada tahap ini, Anda akan melakukan **Exploratory Data Analysis (EDA)** untuk memahami karakteristik dataset. EDA bertujuan untuk:\n",
        "\n",
        "1. **Memahami Struktur Data**\n",
        "   - Tinjau jumlah baris dan kolom dalam dataset.  \n",
        "   - Tinjau jenis data di setiap kolom (numerikal atau kategorikal).\n",
        "\n",
        "2. **Menangani Data yang Hilang**  \n",
        "   - Identifikasi dan analisis data yang hilang (*missing values*). Tentukan langkah-langkah yang diperlukan untuk menangani data yang hilang, seperti pengisian atau penghapusan data tersebut.\n",
        "\n",
        "Tujuan dari EDA adalah untuk memperoleh wawasan awal yang mendalam mengenai data dan menentukan langkah selanjutnya dalam analisis atau pemodelan."
      ],
      "metadata": {
        "id": "bgZkbJLpK9UR"
      }
    },
    {
      "cell_type": "code",
      "source": [
        "df.info()"
      ],
      "metadata": {
        "colab": {
          "base_uri": "https://localhost:8080/"
        },
        "id": "6dO7ONqJyi9c",
        "outputId": "6615bff5-8be1-4645-f491-b5a8a498f0c7"
      },
      "execution_count": 4,
      "outputs": [
        {
          "output_type": "stream",
          "name": "stdout",
          "text": [
            "<class 'pandas.core.frame.DataFrame'>\n",
            "RangeIndex: 10234 entries, 0 to 10233\n",
            "Columns: 180 entries, Unnamed: 0 to solid_tumor_with_metastasis\n",
            "dtypes: float64(156), int64(18), object(6)\n",
            "memory usage: 14.1+ MB\n"
          ]
        }
      ]
    },
    {
      "cell_type": "code",
      "source": [
        "df.isna().sum()"
      ],
      "metadata": {
        "colab": {
          "base_uri": "https://localhost:8080/",
          "height": 458
        },
        "id": "anNPcvQJ6tx6",
        "outputId": "6f8fa20f-cbac-4b7c-ff74-5ed951bbfebd"
      },
      "execution_count": 5,
      "outputs": [
        {
          "output_type": "execute_result",
          "data": {
            "text/plain": [
              "Unnamed: 0                        0\n",
              "encounter_id                      0\n",
              "hospital_id                       0\n",
              "age                               0\n",
              "bmi                            1015\n",
              "                               ... \n",
              "hepatic_failure                   0\n",
              "immunosuppression                 0\n",
              "leukemia                          0\n",
              "lymphoma                          0\n",
              "solid_tumor_with_metastasis       0\n",
              "Length: 180, dtype: int64"
            ],
            "text/html": [
              "<div>\n",
              "<style scoped>\n",
              "    .dataframe tbody tr th:only-of-type {\n",
              "        vertical-align: middle;\n",
              "    }\n",
              "\n",
              "    .dataframe tbody tr th {\n",
              "        vertical-align: top;\n",
              "    }\n",
              "\n",
              "    .dataframe thead th {\n",
              "        text-align: right;\n",
              "    }\n",
              "</style>\n",
              "<table border=\"1\" class=\"dataframe\">\n",
              "  <thead>\n",
              "    <tr style=\"text-align: right;\">\n",
              "      <th></th>\n",
              "      <th>0</th>\n",
              "    </tr>\n",
              "  </thead>\n",
              "  <tbody>\n",
              "    <tr>\n",
              "      <th>Unnamed: 0</th>\n",
              "      <td>0</td>\n",
              "    </tr>\n",
              "    <tr>\n",
              "      <th>encounter_id</th>\n",
              "      <td>0</td>\n",
              "    </tr>\n",
              "    <tr>\n",
              "      <th>hospital_id</th>\n",
              "      <td>0</td>\n",
              "    </tr>\n",
              "    <tr>\n",
              "      <th>age</th>\n",
              "      <td>0</td>\n",
              "    </tr>\n",
              "    <tr>\n",
              "      <th>bmi</th>\n",
              "      <td>1015</td>\n",
              "    </tr>\n",
              "    <tr>\n",
              "      <th>...</th>\n",
              "      <td>...</td>\n",
              "    </tr>\n",
              "    <tr>\n",
              "      <th>hepatic_failure</th>\n",
              "      <td>0</td>\n",
              "    </tr>\n",
              "    <tr>\n",
              "      <th>immunosuppression</th>\n",
              "      <td>0</td>\n",
              "    </tr>\n",
              "    <tr>\n",
              "      <th>leukemia</th>\n",
              "      <td>0</td>\n",
              "    </tr>\n",
              "    <tr>\n",
              "      <th>lymphoma</th>\n",
              "      <td>0</td>\n",
              "    </tr>\n",
              "    <tr>\n",
              "      <th>solid_tumor_with_metastasis</th>\n",
              "      <td>0</td>\n",
              "    </tr>\n",
              "  </tbody>\n",
              "</table>\n",
              "<p>180 rows × 1 columns</p>\n",
              "</div><br><label><b>dtype:</b> int64</label>"
            ]
          },
          "metadata": {},
          "execution_count": 5
        }
      ]
    },
    {
      "cell_type": "code",
      "source": [
        "for i , (col, dtype) in enumerate(df.dtypes.items(), start=1):\n",
        "    print(f\"{i}. {col}: {dtype}\")"
      ],
      "metadata": {
        "colab": {
          "base_uri": "https://localhost:8080/"
        },
        "id": "lgd5w6dbyz4h",
        "outputId": "31443c96-e44e-491c-f8e0-455a3231fd89"
      },
      "execution_count": 25,
      "outputs": [
        {
          "output_type": "stream",
          "name": "stdout",
          "text": [
            "1. age: int64\n",
            "2. bmi: float64\n",
            "3. elective_surgery: int64\n",
            "4. ethnicity: int64\n",
            "5. gender: int64\n",
            "6. height: float64\n",
            "7. hospital_admit_source: int64\n",
            "8. icu_admit_source: int64\n",
            "9. icu_id: int64\n",
            "10. icu_stay_type: int64\n",
            "11. icu_type: int64\n",
            "12. pre_icu_los_days: float64\n",
            "13. readmission_status: int64\n",
            "14. weight: float64\n",
            "15. albumin_apache: float64\n",
            "16. apache_2_diagnosis: float64\n",
            "17. apache_3j_diagnosis: float64\n",
            "18. apache_post_operative: int64\n",
            "19. arf_apache: int64\n",
            "20. bilirubin_apache: float64\n",
            "21. bun_apache: float64\n",
            "22. creatinine_apache: float64\n",
            "23. fio2_apache: float64\n",
            "24. gcs_eyes_apache: float64\n",
            "25. gcs_motor_apache: float64\n",
            "26. gcs_unable_apache: float64\n",
            "27. gcs_verbal_apache: float64\n",
            "28. glucose_apache: float64\n",
            "29. heart_rate_apache: float64\n",
            "30. hematocrit_apache: float64\n",
            "31. intubated_apache: int64\n",
            "32. map_apache: float64\n",
            "33. paco2_apache: float64\n",
            "34. paco2_for_ph_apache: float64\n",
            "35. pao2_apache: float64\n",
            "36. ph_apache: float64\n",
            "37. resprate_apache: float64\n",
            "38. sodium_apache: float64\n",
            "39. temp_apache: float64\n",
            "40. urineoutput_apache: float64\n",
            "41. ventilated_apache: int64\n",
            "42. wbc_apache: float64\n",
            "43. d1_diasbp_invasive_max: float64\n",
            "44. d1_diasbp_invasive_min: float64\n",
            "45. d1_diasbp_max: float64\n",
            "46. d1_diasbp_min: float64\n",
            "47. d1_diasbp_noninvasive_max: float64\n",
            "48. d1_diasbp_noninvasive_min: float64\n",
            "49. d1_heartrate_max: float64\n",
            "50. d1_heartrate_min: float64\n",
            "51. d1_mbp_invasive_max: float64\n",
            "52. d1_mbp_invasive_min: float64\n",
            "53. d1_mbp_max: float64\n",
            "54. d1_mbp_min: float64\n",
            "55. d1_mbp_noninvasive_max: float64\n",
            "56. d1_mbp_noninvasive_min: float64\n",
            "57. d1_resprate_max: float64\n",
            "58. d1_resprate_min: float64\n",
            "59. d1_spo2_max: float64\n",
            "60. d1_spo2_min: float64\n",
            "61. d1_sysbp_invasive_max: float64\n",
            "62. d1_sysbp_invasive_min: float64\n",
            "63. d1_sysbp_max: float64\n",
            "64. d1_sysbp_min: float64\n",
            "65. d1_sysbp_noninvasive_max: float64\n",
            "66. d1_sysbp_noninvasive_min: float64\n",
            "67. d1_temp_max: float64\n",
            "68. d1_temp_min: float64\n",
            "69. h1_diasbp_invasive_max: float64\n",
            "70. h1_diasbp_invasive_min: float64\n",
            "71. h1_diasbp_max: float64\n",
            "72. h1_diasbp_min: float64\n",
            "73. h1_diasbp_noninvasive_max: float64\n",
            "74. h1_diasbp_noninvasive_min: float64\n",
            "75. h1_heartrate_max: float64\n",
            "76. h1_heartrate_min: float64\n",
            "77. h1_mbp_invasive_max: float64\n",
            "78. h1_mbp_invasive_min: float64\n",
            "79. h1_mbp_max: float64\n",
            "80. h1_mbp_min: float64\n",
            "81. h1_mbp_noninvasive_max: float64\n",
            "82. h1_mbp_noninvasive_min: float64\n",
            "83. h1_resprate_max: float64\n",
            "84. h1_resprate_min: float64\n",
            "85. h1_spo2_max: float64\n",
            "86. h1_spo2_min: float64\n",
            "87. h1_sysbp_invasive_max: float64\n",
            "88. h1_sysbp_invasive_min: float64\n",
            "89. h1_sysbp_max: float64\n",
            "90. h1_sysbp_min: float64\n",
            "91. h1_sysbp_noninvasive_max: float64\n",
            "92. h1_sysbp_noninvasive_min: float64\n",
            "93. h1_temp_max: float64\n",
            "94. h1_temp_min: float64\n",
            "95. d1_albumin_max: float64\n",
            "96. d1_albumin_min: float64\n",
            "97. d1_bilirubin_max: float64\n",
            "98. d1_bilirubin_min: float64\n",
            "99. d1_bun_max: float64\n",
            "100. d1_bun_min: float64\n",
            "101. d1_calcium_max: float64\n",
            "102. d1_calcium_min: float64\n",
            "103. d1_creatinine_max: float64\n",
            "104. d1_creatinine_min: float64\n",
            "105. d1_glucose_max: float64\n",
            "106. d1_glucose_min: float64\n",
            "107. d1_hco3_max: float64\n",
            "108. d1_hco3_min: float64\n",
            "109. d1_hemaglobin_max: float64\n",
            "110. d1_hemaglobin_min: float64\n",
            "111. d1_hematocrit_max: float64\n",
            "112. d1_hematocrit_min: float64\n",
            "113. d1_inr_max: float64\n",
            "114. d1_inr_min: float64\n",
            "115. d1_lactate_max: float64\n",
            "116. d1_lactate_min: float64\n",
            "117. d1_platelets_max: float64\n",
            "118. d1_platelets_min: float64\n",
            "119. d1_potassium_max: float64\n",
            "120. d1_potassium_min: float64\n",
            "121. d1_sodium_max: float64\n",
            "122. d1_sodium_min: float64\n",
            "123. d1_wbc_max: float64\n",
            "124. d1_wbc_min: float64\n",
            "125. h1_albumin_max: float64\n",
            "126. h1_albumin_min: float64\n",
            "127. h1_bilirubin_max: float64\n",
            "128. h1_bilirubin_min: float64\n",
            "129. h1_bun_max: float64\n",
            "130. h1_bun_min: float64\n",
            "131. h1_calcium_max: float64\n",
            "132. h1_calcium_min: float64\n",
            "133. h1_creatinine_max: float64\n",
            "134. h1_creatinine_min: float64\n",
            "135. h1_glucose_max: float64\n",
            "136. h1_glucose_min: float64\n",
            "137. h1_hco3_max: float64\n",
            "138. h1_hco3_min: float64\n",
            "139. h1_hemaglobin_max: float64\n",
            "140. h1_hemaglobin_min: float64\n",
            "141. h1_hematocrit_max: float64\n",
            "142. h1_hematocrit_min: float64\n",
            "143. h1_inr_max: float64\n",
            "144. h1_inr_min: float64\n",
            "145. h1_lactate_max: float64\n",
            "146. h1_lactate_min: float64\n",
            "147. h1_platelets_max: float64\n",
            "148. h1_platelets_min: float64\n",
            "149. h1_potassium_max: float64\n",
            "150. h1_potassium_min: float64\n",
            "151. h1_sodium_max: float64\n",
            "152. h1_sodium_min: float64\n",
            "153. h1_wbc_max: float64\n",
            "154. h1_wbc_min: float64\n",
            "155. d1_arterial_pco2_max: float64\n",
            "156. d1_arterial_pco2_min: float64\n",
            "157. d1_arterial_ph_max: float64\n",
            "158. d1_arterial_ph_min: float64\n",
            "159. d1_arterial_po2_max: float64\n",
            "160. d1_arterial_po2_min: float64\n",
            "161. d1_pao2fio2ratio_max: float64\n",
            "162. d1_pao2fio2ratio_min: float64\n",
            "163. h1_arterial_pco2_max: float64\n",
            "164. h1_arterial_pco2_min: float64\n",
            "165. h1_arterial_ph_max: float64\n",
            "166. h1_arterial_ph_min: float64\n",
            "167. h1_arterial_po2_max: float64\n",
            "168. h1_arterial_po2_min: float64\n",
            "169. h1_pao2fio2ratio_max: float64\n",
            "170. h1_pao2fio2ratio_min: float64\n",
            "171. aids: int64\n",
            "172. cirrhosis: int64\n",
            "173. hepatic_failure: int64\n",
            "174. immunosuppression: int64\n",
            "175. leukemia: int64\n",
            "176. lymphoma: int64\n",
            "177. solid_tumor_with_metastasis: int64\n"
          ]
        }
      ]
    },
    {
      "cell_type": "code",
      "source": [
        "df.duplicated().sum()"
      ],
      "metadata": {
        "colab": {
          "base_uri": "https://localhost:8080/"
        },
        "id": "DmfQLiyhEzPn",
        "outputId": "8e68e3fe-f2a7-49f6-c107-30512e73e654"
      },
      "execution_count": 7,
      "outputs": [
        {
          "output_type": "execute_result",
          "data": {
            "text/plain": [
              "np.int64(0)"
            ]
          },
          "metadata": {},
          "execution_count": 7
        }
      ]
    },
    {
      "cell_type": "code",
      "source": [
        "df.describe()"
      ],
      "metadata": {
        "colab": {
          "base_uri": "https://localhost:8080/",
          "height": 349
        },
        "id": "jFlWwT28HMN6",
        "outputId": "38470cdc-9c46-4567-f062-884885cfb3ba"
      },
      "execution_count": 8,
      "outputs": [
        {
          "output_type": "execute_result",
          "data": {
            "text/plain": [
              "         Unnamed: 0   encounter_id   hospital_id           age          bmi  \\\n",
              "count  10234.000000   10234.000000  10234.000000  10234.000000  9219.000000   \n",
              "mean    5117.500000  140498.779461  10092.391929     62.853625    29.116463   \n",
              "std     2954.445661    3182.455522     57.008062     17.851661     8.342873   \n",
              "min        1.000000  135000.000000  10001.000000     18.000000    14.900000   \n",
              "25%     2559.250000  137742.250000  10043.000000     52.000000    23.700000   \n",
              "50%     5117.500000  140503.500000  10085.000000     65.000000    27.600000   \n",
              "75%     7675.750000  143252.750000  10145.000000     76.000000    32.600000   \n",
              "max    10234.000000  146000.000000  10199.000000     96.000000    69.944000   \n",
              "\n",
              "       elective_surgery       height        icu_id  pre_icu_los_days  \\\n",
              "count      10234.000000  9933.000000  10234.000000      10234.000000   \n",
              "mean           0.200117   169.276414    677.823725          0.831339   \n",
              "std            0.400107    10.805701    304.116531          2.411936   \n",
              "min            0.000000   137.000000     82.000000         -0.208333   \n",
              "25%            0.000000   162.500000    451.000000          0.032639   \n",
              "50%            0.000000   170.000000    687.000000          0.134028   \n",
              "75%            0.000000   177.800000    962.000000          0.430382   \n",
              "max            1.000000   195.600000   1111.000000         65.945833   \n",
              "\n",
              "       readmission_status  ...  h1_arterial_po2_min  h1_pao2fio2ratio_max  \\\n",
              "count             10234.0  ...          1928.000000           1422.000000   \n",
              "mean                  0.0  ...           156.767998            254.687589   \n",
              "std                   0.0  ...           105.623078            132.087636   \n",
              "min                   0.0  ...            30.000000             42.620000   \n",
              "25%                   0.0  ...            79.000000            151.400000   \n",
              "50%                   0.0  ...           118.000000            234.000000   \n",
              "75%                   0.0  ...           206.075000            345.525000   \n",
              "max                   0.0  ...           518.060000            672.824000   \n",
              "\n",
              "       h1_pao2fio2ratio_min          aids     cirrhosis  hepatic_failure  \\\n",
              "count           1422.000000  10234.000000  10234.000000     10234.000000   \n",
              "mean             246.255826      0.000977      0.012019         0.010064   \n",
              "std              130.745488      0.031245      0.108975         0.099821   \n",
              "min               41.417000      0.000000      0.000000         0.000000   \n",
              "25%              144.050000      0.000000      0.000000         0.000000   \n",
              "50%              224.000000      0.000000      0.000000         0.000000   \n",
              "75%              336.525000      0.000000      0.000000         0.000000   \n",
              "max              651.656000      1.000000      1.000000         1.000000   \n",
              "\n",
              "       immunosuppression      leukemia      lymphoma  \\\n",
              "count       10234.000000  10234.000000  10234.000000   \n",
              "mean            0.022572      0.006547      0.004104   \n",
              "std             0.148541      0.080651      0.063934   \n",
              "min             0.000000      0.000000      0.000000   \n",
              "25%             0.000000      0.000000      0.000000   \n",
              "50%             0.000000      0.000000      0.000000   \n",
              "75%             0.000000      0.000000      0.000000   \n",
              "max             1.000000      1.000000      1.000000   \n",
              "\n",
              "       solid_tumor_with_metastasis  \n",
              "count                 10234.000000  \n",
              "mean                      0.017686  \n",
              "std                       0.131814  \n",
              "min                       0.000000  \n",
              "25%                       0.000000  \n",
              "50%                       0.000000  \n",
              "75%                       0.000000  \n",
              "max                       1.000000  \n",
              "\n",
              "[8 rows x 174 columns]"
            ],
            "text/html": [
              "\n",
              "  <div id=\"df-4ab9a6b7-8266-4a64-a280-87b056f37676\" class=\"colab-df-container\">\n",
              "    <div>\n",
              "<style scoped>\n",
              "    .dataframe tbody tr th:only-of-type {\n",
              "        vertical-align: middle;\n",
              "    }\n",
              "\n",
              "    .dataframe tbody tr th {\n",
              "        vertical-align: top;\n",
              "    }\n",
              "\n",
              "    .dataframe thead th {\n",
              "        text-align: right;\n",
              "    }\n",
              "</style>\n",
              "<table border=\"1\" class=\"dataframe\">\n",
              "  <thead>\n",
              "    <tr style=\"text-align: right;\">\n",
              "      <th></th>\n",
              "      <th>Unnamed: 0</th>\n",
              "      <th>encounter_id</th>\n",
              "      <th>hospital_id</th>\n",
              "      <th>age</th>\n",
              "      <th>bmi</th>\n",
              "      <th>elective_surgery</th>\n",
              "      <th>height</th>\n",
              "      <th>icu_id</th>\n",
              "      <th>pre_icu_los_days</th>\n",
              "      <th>readmission_status</th>\n",
              "      <th>...</th>\n",
              "      <th>h1_arterial_po2_min</th>\n",
              "      <th>h1_pao2fio2ratio_max</th>\n",
              "      <th>h1_pao2fio2ratio_min</th>\n",
              "      <th>aids</th>\n",
              "      <th>cirrhosis</th>\n",
              "      <th>hepatic_failure</th>\n",
              "      <th>immunosuppression</th>\n",
              "      <th>leukemia</th>\n",
              "      <th>lymphoma</th>\n",
              "      <th>solid_tumor_with_metastasis</th>\n",
              "    </tr>\n",
              "  </thead>\n",
              "  <tbody>\n",
              "    <tr>\n",
              "      <th>count</th>\n",
              "      <td>10234.000000</td>\n",
              "      <td>10234.000000</td>\n",
              "      <td>10234.000000</td>\n",
              "      <td>10234.000000</td>\n",
              "      <td>9219.000000</td>\n",
              "      <td>10234.000000</td>\n",
              "      <td>9933.000000</td>\n",
              "      <td>10234.000000</td>\n",
              "      <td>10234.000000</td>\n",
              "      <td>10234.0</td>\n",
              "      <td>...</td>\n",
              "      <td>1928.000000</td>\n",
              "      <td>1422.000000</td>\n",
              "      <td>1422.000000</td>\n",
              "      <td>10234.000000</td>\n",
              "      <td>10234.000000</td>\n",
              "      <td>10234.000000</td>\n",
              "      <td>10234.000000</td>\n",
              "      <td>10234.000000</td>\n",
              "      <td>10234.000000</td>\n",
              "      <td>10234.000000</td>\n",
              "    </tr>\n",
              "    <tr>\n",
              "      <th>mean</th>\n",
              "      <td>5117.500000</td>\n",
              "      <td>140498.779461</td>\n",
              "      <td>10092.391929</td>\n",
              "      <td>62.853625</td>\n",
              "      <td>29.116463</td>\n",
              "      <td>0.200117</td>\n",
              "      <td>169.276414</td>\n",
              "      <td>677.823725</td>\n",
              "      <td>0.831339</td>\n",
              "      <td>0.0</td>\n",
              "      <td>...</td>\n",
              "      <td>156.767998</td>\n",
              "      <td>254.687589</td>\n",
              "      <td>246.255826</td>\n",
              "      <td>0.000977</td>\n",
              "      <td>0.012019</td>\n",
              "      <td>0.010064</td>\n",
              "      <td>0.022572</td>\n",
              "      <td>0.006547</td>\n",
              "      <td>0.004104</td>\n",
              "      <td>0.017686</td>\n",
              "    </tr>\n",
              "    <tr>\n",
              "      <th>std</th>\n",
              "      <td>2954.445661</td>\n",
              "      <td>3182.455522</td>\n",
              "      <td>57.008062</td>\n",
              "      <td>17.851661</td>\n",
              "      <td>8.342873</td>\n",
              "      <td>0.400107</td>\n",
              "      <td>10.805701</td>\n",
              "      <td>304.116531</td>\n",
              "      <td>2.411936</td>\n",
              "      <td>0.0</td>\n",
              "      <td>...</td>\n",
              "      <td>105.623078</td>\n",
              "      <td>132.087636</td>\n",
              "      <td>130.745488</td>\n",
              "      <td>0.031245</td>\n",
              "      <td>0.108975</td>\n",
              "      <td>0.099821</td>\n",
              "      <td>0.148541</td>\n",
              "      <td>0.080651</td>\n",
              "      <td>0.063934</td>\n",
              "      <td>0.131814</td>\n",
              "    </tr>\n",
              "    <tr>\n",
              "      <th>min</th>\n",
              "      <td>1.000000</td>\n",
              "      <td>135000.000000</td>\n",
              "      <td>10001.000000</td>\n",
              "      <td>18.000000</td>\n",
              "      <td>14.900000</td>\n",
              "      <td>0.000000</td>\n",
              "      <td>137.000000</td>\n",
              "      <td>82.000000</td>\n",
              "      <td>-0.208333</td>\n",
              "      <td>0.0</td>\n",
              "      <td>...</td>\n",
              "      <td>30.000000</td>\n",
              "      <td>42.620000</td>\n",
              "      <td>41.417000</td>\n",
              "      <td>0.000000</td>\n",
              "      <td>0.000000</td>\n",
              "      <td>0.000000</td>\n",
              "      <td>0.000000</td>\n",
              "      <td>0.000000</td>\n",
              "      <td>0.000000</td>\n",
              "      <td>0.000000</td>\n",
              "    </tr>\n",
              "    <tr>\n",
              "      <th>25%</th>\n",
              "      <td>2559.250000</td>\n",
              "      <td>137742.250000</td>\n",
              "      <td>10043.000000</td>\n",
              "      <td>52.000000</td>\n",
              "      <td>23.700000</td>\n",
              "      <td>0.000000</td>\n",
              "      <td>162.500000</td>\n",
              "      <td>451.000000</td>\n",
              "      <td>0.032639</td>\n",
              "      <td>0.0</td>\n",
              "      <td>...</td>\n",
              "      <td>79.000000</td>\n",
              "      <td>151.400000</td>\n",
              "      <td>144.050000</td>\n",
              "      <td>0.000000</td>\n",
              "      <td>0.000000</td>\n",
              "      <td>0.000000</td>\n",
              "      <td>0.000000</td>\n",
              "      <td>0.000000</td>\n",
              "      <td>0.000000</td>\n",
              "      <td>0.000000</td>\n",
              "    </tr>\n",
              "    <tr>\n",
              "      <th>50%</th>\n",
              "      <td>5117.500000</td>\n",
              "      <td>140503.500000</td>\n",
              "      <td>10085.000000</td>\n",
              "      <td>65.000000</td>\n",
              "      <td>27.600000</td>\n",
              "      <td>0.000000</td>\n",
              "      <td>170.000000</td>\n",
              "      <td>687.000000</td>\n",
              "      <td>0.134028</td>\n",
              "      <td>0.0</td>\n",
              "      <td>...</td>\n",
              "      <td>118.000000</td>\n",
              "      <td>234.000000</td>\n",
              "      <td>224.000000</td>\n",
              "      <td>0.000000</td>\n",
              "      <td>0.000000</td>\n",
              "      <td>0.000000</td>\n",
              "      <td>0.000000</td>\n",
              "      <td>0.000000</td>\n",
              "      <td>0.000000</td>\n",
              "      <td>0.000000</td>\n",
              "    </tr>\n",
              "    <tr>\n",
              "      <th>75%</th>\n",
              "      <td>7675.750000</td>\n",
              "      <td>143252.750000</td>\n",
              "      <td>10145.000000</td>\n",
              "      <td>76.000000</td>\n",
              "      <td>32.600000</td>\n",
              "      <td>0.000000</td>\n",
              "      <td>177.800000</td>\n",
              "      <td>962.000000</td>\n",
              "      <td>0.430382</td>\n",
              "      <td>0.0</td>\n",
              "      <td>...</td>\n",
              "      <td>206.075000</td>\n",
              "      <td>345.525000</td>\n",
              "      <td>336.525000</td>\n",
              "      <td>0.000000</td>\n",
              "      <td>0.000000</td>\n",
              "      <td>0.000000</td>\n",
              "      <td>0.000000</td>\n",
              "      <td>0.000000</td>\n",
              "      <td>0.000000</td>\n",
              "      <td>0.000000</td>\n",
              "    </tr>\n",
              "    <tr>\n",
              "      <th>max</th>\n",
              "      <td>10234.000000</td>\n",
              "      <td>146000.000000</td>\n",
              "      <td>10199.000000</td>\n",
              "      <td>96.000000</td>\n",
              "      <td>69.944000</td>\n",
              "      <td>1.000000</td>\n",
              "      <td>195.600000</td>\n",
              "      <td>1111.000000</td>\n",
              "      <td>65.945833</td>\n",
              "      <td>0.0</td>\n",
              "      <td>...</td>\n",
              "      <td>518.060000</td>\n",
              "      <td>672.824000</td>\n",
              "      <td>651.656000</td>\n",
              "      <td>1.000000</td>\n",
              "      <td>1.000000</td>\n",
              "      <td>1.000000</td>\n",
              "      <td>1.000000</td>\n",
              "      <td>1.000000</td>\n",
              "      <td>1.000000</td>\n",
              "      <td>1.000000</td>\n",
              "    </tr>\n",
              "  </tbody>\n",
              "</table>\n",
              "<p>8 rows × 174 columns</p>\n",
              "</div>\n",
              "    <div class=\"colab-df-buttons\">\n",
              "\n",
              "  <div class=\"colab-df-container\">\n",
              "    <button class=\"colab-df-convert\" onclick=\"convertToInteractive('df-4ab9a6b7-8266-4a64-a280-87b056f37676')\"\n",
              "            title=\"Convert this dataframe to an interactive table.\"\n",
              "            style=\"display:none;\">\n",
              "\n",
              "  <svg xmlns=\"http://www.w3.org/2000/svg\" height=\"24px\" viewBox=\"0 -960 960 960\">\n",
              "    <path d=\"M120-120v-720h720v720H120Zm60-500h600v-160H180v160Zm220 220h160v-160H400v160Zm0 220h160v-160H400v160ZM180-400h160v-160H180v160Zm440 0h160v-160H620v160ZM180-180h160v-160H180v160Zm440 0h160v-160H620v160Z\"/>\n",
              "  </svg>\n",
              "    </button>\n",
              "\n",
              "  <style>\n",
              "    .colab-df-container {\n",
              "      display:flex;\n",
              "      gap: 12px;\n",
              "    }\n",
              "\n",
              "    .colab-df-convert {\n",
              "      background-color: #E8F0FE;\n",
              "      border: none;\n",
              "      border-radius: 50%;\n",
              "      cursor: pointer;\n",
              "      display: none;\n",
              "      fill: #1967D2;\n",
              "      height: 32px;\n",
              "      padding: 0 0 0 0;\n",
              "      width: 32px;\n",
              "    }\n",
              "\n",
              "    .colab-df-convert:hover {\n",
              "      background-color: #E2EBFA;\n",
              "      box-shadow: 0px 1px 2px rgba(60, 64, 67, 0.3), 0px 1px 3px 1px rgba(60, 64, 67, 0.15);\n",
              "      fill: #174EA6;\n",
              "    }\n",
              "\n",
              "    .colab-df-buttons div {\n",
              "      margin-bottom: 4px;\n",
              "    }\n",
              "\n",
              "    [theme=dark] .colab-df-convert {\n",
              "      background-color: #3B4455;\n",
              "      fill: #D2E3FC;\n",
              "    }\n",
              "\n",
              "    [theme=dark] .colab-df-convert:hover {\n",
              "      background-color: #434B5C;\n",
              "      box-shadow: 0px 1px 3px 1px rgba(0, 0, 0, 0.15);\n",
              "      filter: drop-shadow(0px 1px 2px rgba(0, 0, 0, 0.3));\n",
              "      fill: #FFFFFF;\n",
              "    }\n",
              "  </style>\n",
              "\n",
              "    <script>\n",
              "      const buttonEl =\n",
              "        document.querySelector('#df-4ab9a6b7-8266-4a64-a280-87b056f37676 button.colab-df-convert');\n",
              "      buttonEl.style.display =\n",
              "        google.colab.kernel.accessAllowed ? 'block' : 'none';\n",
              "\n",
              "      async function convertToInteractive(key) {\n",
              "        const element = document.querySelector('#df-4ab9a6b7-8266-4a64-a280-87b056f37676');\n",
              "        const dataTable =\n",
              "          await google.colab.kernel.invokeFunction('convertToInteractive',\n",
              "                                                    [key], {});\n",
              "        if (!dataTable) return;\n",
              "\n",
              "        const docLinkHtml = 'Like what you see? Visit the ' +\n",
              "          '<a target=\"_blank\" href=https://colab.research.google.com/notebooks/data_table.ipynb>data table notebook</a>'\n",
              "          + ' to learn more about interactive tables.';\n",
              "        element.innerHTML = '';\n",
              "        dataTable['output_type'] = 'display_data';\n",
              "        await google.colab.output.renderOutput(dataTable, element);\n",
              "        const docLink = document.createElement('div');\n",
              "        docLink.innerHTML = docLinkHtml;\n",
              "        element.appendChild(docLink);\n",
              "      }\n",
              "    </script>\n",
              "  </div>\n",
              "\n",
              "\n",
              "<div id=\"df-f98bdedd-7f52-45b7-bd6b-ab6ac5733441\">\n",
              "  <button class=\"colab-df-quickchart\" onclick=\"quickchart('df-f98bdedd-7f52-45b7-bd6b-ab6ac5733441')\"\n",
              "            title=\"Suggest charts\"\n",
              "            style=\"display:none;\">\n",
              "\n",
              "<svg xmlns=\"http://www.w3.org/2000/svg\" height=\"24px\"viewBox=\"0 0 24 24\"\n",
              "     width=\"24px\">\n",
              "    <g>\n",
              "        <path d=\"M19 3H5c-1.1 0-2 .9-2 2v14c0 1.1.9 2 2 2h14c1.1 0 2-.9 2-2V5c0-1.1-.9-2-2-2zM9 17H7v-7h2v7zm4 0h-2V7h2v10zm4 0h-2v-4h2v4z\"/>\n",
              "    </g>\n",
              "</svg>\n",
              "  </button>\n",
              "\n",
              "<style>\n",
              "  .colab-df-quickchart {\n",
              "      --bg-color: #E8F0FE;\n",
              "      --fill-color: #1967D2;\n",
              "      --hover-bg-color: #E2EBFA;\n",
              "      --hover-fill-color: #174EA6;\n",
              "      --disabled-fill-color: #AAA;\n",
              "      --disabled-bg-color: #DDD;\n",
              "  }\n",
              "\n",
              "  [theme=dark] .colab-df-quickchart {\n",
              "      --bg-color: #3B4455;\n",
              "      --fill-color: #D2E3FC;\n",
              "      --hover-bg-color: #434B5C;\n",
              "      --hover-fill-color: #FFFFFF;\n",
              "      --disabled-bg-color: #3B4455;\n",
              "      --disabled-fill-color: #666;\n",
              "  }\n",
              "\n",
              "  .colab-df-quickchart {\n",
              "    background-color: var(--bg-color);\n",
              "    border: none;\n",
              "    border-radius: 50%;\n",
              "    cursor: pointer;\n",
              "    display: none;\n",
              "    fill: var(--fill-color);\n",
              "    height: 32px;\n",
              "    padding: 0;\n",
              "    width: 32px;\n",
              "  }\n",
              "\n",
              "  .colab-df-quickchart:hover {\n",
              "    background-color: var(--hover-bg-color);\n",
              "    box-shadow: 0 1px 2px rgba(60, 64, 67, 0.3), 0 1px 3px 1px rgba(60, 64, 67, 0.15);\n",
              "    fill: var(--button-hover-fill-color);\n",
              "  }\n",
              "\n",
              "  .colab-df-quickchart-complete:disabled,\n",
              "  .colab-df-quickchart-complete:disabled:hover {\n",
              "    background-color: var(--disabled-bg-color);\n",
              "    fill: var(--disabled-fill-color);\n",
              "    box-shadow: none;\n",
              "  }\n",
              "\n",
              "  .colab-df-spinner {\n",
              "    border: 2px solid var(--fill-color);\n",
              "    border-color: transparent;\n",
              "    border-bottom-color: var(--fill-color);\n",
              "    animation:\n",
              "      spin 1s steps(1) infinite;\n",
              "  }\n",
              "\n",
              "  @keyframes spin {\n",
              "    0% {\n",
              "      border-color: transparent;\n",
              "      border-bottom-color: var(--fill-color);\n",
              "      border-left-color: var(--fill-color);\n",
              "    }\n",
              "    20% {\n",
              "      border-color: transparent;\n",
              "      border-left-color: var(--fill-color);\n",
              "      border-top-color: var(--fill-color);\n",
              "    }\n",
              "    30% {\n",
              "      border-color: transparent;\n",
              "      border-left-color: var(--fill-color);\n",
              "      border-top-color: var(--fill-color);\n",
              "      border-right-color: var(--fill-color);\n",
              "    }\n",
              "    40% {\n",
              "      border-color: transparent;\n",
              "      border-right-color: var(--fill-color);\n",
              "      border-top-color: var(--fill-color);\n",
              "    }\n",
              "    60% {\n",
              "      border-color: transparent;\n",
              "      border-right-color: var(--fill-color);\n",
              "    }\n",
              "    80% {\n",
              "      border-color: transparent;\n",
              "      border-right-color: var(--fill-color);\n",
              "      border-bottom-color: var(--fill-color);\n",
              "    }\n",
              "    90% {\n",
              "      border-color: transparent;\n",
              "      border-bottom-color: var(--fill-color);\n",
              "    }\n",
              "  }\n",
              "</style>\n",
              "\n",
              "  <script>\n",
              "    async function quickchart(key) {\n",
              "      const quickchartButtonEl =\n",
              "        document.querySelector('#' + key + ' button');\n",
              "      quickchartButtonEl.disabled = true;  // To prevent multiple clicks.\n",
              "      quickchartButtonEl.classList.add('colab-df-spinner');\n",
              "      try {\n",
              "        const charts = await google.colab.kernel.invokeFunction(\n",
              "            'suggestCharts', [key], {});\n",
              "      } catch (error) {\n",
              "        console.error('Error during call to suggestCharts:', error);\n",
              "      }\n",
              "      quickchartButtonEl.classList.remove('colab-df-spinner');\n",
              "      quickchartButtonEl.classList.add('colab-df-quickchart-complete');\n",
              "    }\n",
              "    (() => {\n",
              "      let quickchartButtonEl =\n",
              "        document.querySelector('#df-f98bdedd-7f52-45b7-bd6b-ab6ac5733441 button');\n",
              "      quickchartButtonEl.style.display =\n",
              "        google.colab.kernel.accessAllowed ? 'block' : 'none';\n",
              "    })();\n",
              "  </script>\n",
              "</div>\n",
              "\n",
              "    </div>\n",
              "  </div>\n"
            ],
            "application/vnd.google.colaboratory.intrinsic+json": {
              "type": "dataframe"
            }
          },
          "metadata": {},
          "execution_count": 8
        }
      ]
    },
    {
      "cell_type": "markdown",
      "source": [
        "### Hasil Analisis Awal Dataset\n",
        "- Dataset memiliki 10234 baris dan 180 kolom.\n",
        "- Tidak ada data yang duplikat.\n",
        "- Mayoritas kolom adalah numerik (156 float, 18 integer), dengan 6 kolom kategorikal (object).\n",
        "- Ada 159 kolom yang memiliki missing values, adapun beberapa kolom yang terbanyak memiliki missing value:\n",
        "  - `h1_pao2fio2ratio_min` -> 8812 missing values\n",
        "  - `h1_pao2fio2ratio_max` -> 8812 missing values\n",
        "  - `h1_arterial_ph_max`  -> 8401 missing values\n",
        "- Statistik Deskriptif:\n",
        "  - Fitur `age`: Rata-rata 62.85 tahun, rentang 18 - 96 tahun.\n",
        "  - Fitur `bmi`: Rata-rata 29.11, beberapa outlier hingga 69.94.\n",
        "  - Banyak fitur berupa binary (0/1) untuk kondisi medis, seperti `cirrhosis`, `leukemia`, `lymphoma`."
      ],
      "metadata": {
        "id": "w7incnpWJZQj"
      }
    },
    {
      "cell_type": "markdown",
      "source": [
        "# **5. Data Preprocessing**"
      ],
      "metadata": {
        "id": "cpgHfgnSK3ip"
      }
    },
    {
      "cell_type": "markdown",
      "source": [
        "Pada tahap ini, data preprocessing adalah langkah penting untuk memastikan kualitas data sebelum digunakan dalam model machine learning. Data mentah sering kali mengandung nilai kosong, duplikasi, atau rentang nilai yang tidak konsisten, yang dapat memengaruhi kinerja model. Oleh karena itu, proses ini bertujuan untuk membersihkan dan mempersiapkan data agar analisis berjalan optimal.\n",
        "\n",
        "Berikut adalah tahapan-tahapan yang bisa dilakukan, tetapi **tidak terbatas** pada:\n",
        "1. Menghapus atau Menangani Data Kosong (Missing Values)\n",
        "2. Menghapus Data Duplikat\n",
        "3. Normalisasi atau Standarisasi Fitur\n",
        "4. Deteksi dan Penanganan Outlier\n",
        "5. Encoding Data Kategorikal\n",
        "6. Binning (Pengelompokan Data)\n",
        "\n",
        "Cukup sesuaikan dengan karakteristik data yang kamu gunakan yah."
      ],
      "metadata": {
        "id": "COf8KUPXLg5r"
      }
    },
    {
      "cell_type": "markdown",
      "source": [
        "### 1. Menghapus Kolom yang tidak relevan"
      ],
      "metadata": {
        "id": "sj2Y5G4EIGvZ"
      }
    },
    {
      "cell_type": "code",
      "source": [
        "df.drop(columns=[\"Unnamed: 0\", \"encounter_id\", \"hospital_id\"], errors=\"ignore\", inplace=True)"
      ],
      "metadata": {
        "id": "MdReWAKdbP_w"
      },
      "execution_count": 9,
      "outputs": []
    },
    {
      "cell_type": "markdown",
      "source": [
        "### 2. Memisahkan kolom Numerik dan Kategorikal dan menanganinya\n",
        "numerik ditangani dengan mengisi nilai mean sedangkan kategorikal ditangani dengan mengisi nilai modus"
      ],
      "metadata": {
        "id": "-az-T0LFIXYt"
      }
    },
    {
      "cell_type": "code",
      "source": [
        "numeric_cols = df.select_dtypes(include=['number']).columns\n",
        "categorical_cols = df.select_dtypes(include=['object']).columns\n",
        "df[numeric_cols] = df[numeric_cols].fillna(df[numeric_cols].mean())\n",
        "df[categorical_cols] = df[categorical_cols].fillna(df[categorical_cols].mode().iloc[0])"
      ],
      "metadata": {
        "id": "3koBm2z6IWU0"
      },
      "execution_count": 10,
      "outputs": []
    },
    {
      "cell_type": "markdown",
      "source": [
        "Dataset setelah menghapus kolom yang tidak relevan dan Missing Value setelah ditangani"
      ],
      "metadata": {
        "id": "eyC70gaO30-N"
      }
    },
    {
      "cell_type": "code",
      "source": [
        "missing_after = df.isna().sum().sum()\n",
        "missing_after, df.shape"
      ],
      "metadata": {
        "colab": {
          "base_uri": "https://localhost:8080/"
        },
        "id": "jlMbY8cX7WZf",
        "outputId": "c7c851e6-b382-4298-bf3a-83a3d1d8c2f2"
      },
      "execution_count": 11,
      "outputs": [
        {
          "output_type": "execute_result",
          "data": {
            "text/plain": [
              "(np.int64(0), (10234, 177))"
            ]
          },
          "metadata": {},
          "execution_count": 11
        }
      ]
    },
    {
      "cell_type": "markdown",
      "source": [
        "### 3. Encoding Data Kategorikal"
      ],
      "metadata": {
        "id": "rT-d71QS3bUS"
      }
    },
    {
      "cell_type": "code",
      "source": [
        "label_encoders = {}\n",
        "for col in categorical_cols:\n",
        "    le = LabelEncoder()\n",
        "    df[col] = le.fit_transform(df[col])\n",
        "    label_encoders[col] = le"
      ],
      "metadata": {
        "id": "ebUAB1gn7SG0"
      },
      "execution_count": 12,
      "outputs": []
    },
    {
      "cell_type": "markdown",
      "source": [
        "### 4. Normalisasi Data dengan StandardScaler\n",
        "\n",
        "Untuk memastikan semua fitur memiliki skala yang seragam, kita menggunakan **StandardScaler** dari `sklearn.preprocessing`. StandardScaler bekerja dengan cara:\n",
        "\n",
        "1. **Menghitung mean (μ) dan standar deviasi (σ) dari setiap fitur**  \n",
        "2. **Mengonversi nilai setiap fitur ke skala standar menggunakan rumus berikut:**  \n",
        "   \\[\n",
        "   X_{scaled} = \\frac{X - \\mu}{\\sigma}\n",
        "   \\]\n",
        "   Di mana:\n",
        "   - \\(X\\) adalah nilai asli dari fitur  \n",
        "   - \\(\\mu\\) adalah rata-rata dari fitur tersebut  \n",
        "   - \\(\\sigma\\) adalah standar deviasi dari fitur tersebut  \n",
        "\n",
        "### Implementasi Kode:\n",
        "```python\n",
        "# Inisialisasi StandardScaler\n",
        "scaler = StandardScaler()\n",
        "\n",
        "# Melakukan transformasi pada dataset\n",
        "df_scaled = scaler.fit_transform(df)\n"
      ],
      "metadata": {
        "id": "kGy_gsxt4gy2"
      }
    },
    {
      "cell_type": "code",
      "source": [
        "scaler = StandardScaler()\n",
        "df_scaled = scaler.fit_transform(df)"
      ],
      "metadata": {
        "id": "y6bEUTKA7vYz"
      },
      "execution_count": 13,
      "outputs": []
    },
    {
      "cell_type": "code",
      "source": [
        "selector = VarianceThreshold(threshold=0.01)\n",
        "df_selected = selector.fit_transform(df)\n",
        "print(f\"Jumlah fitur sebelum seleksi: {df.shape[1]}\")\n",
        "print(f\"Jumlah fitur setelah seleksi: {df_selected.shape[1]}\")"
      ],
      "metadata": {
        "colab": {
          "base_uri": "https://localhost:8080/"
        },
        "id": "QmqG6tHz5P2o",
        "outputId": "0315569b-5091-4aaa-ddb3-066f88ded3f5"
      },
      "execution_count": 14,
      "outputs": [
        {
          "output_type": "stream",
          "name": "stdout",
          "text": [
            "Jumlah fitur sebelum seleksi: 177\n",
            "Jumlah fitur setelah seleksi: 167\n"
          ]
        }
      ]
    },
    {
      "cell_type": "code",
      "source": [
        "scaler = StandardScaler()\n",
        "X_scaled = scaler.fit_transform(df_selected)"
      ],
      "metadata": {
        "id": "9nSrbtme6wY-"
      },
      "execution_count": 15,
      "outputs": []
    },
    {
      "cell_type": "code",
      "source": [
        "pca = PCA(n_components=2)\n",
        "df_pca = pca.fit_transform(df_scaled)\n",
        "pca_variance = pca.explained_variance_ratio_\n",
        "df_pca.shape, pca_variance"
      ],
      "metadata": {
        "colab": {
          "base_uri": "https://localhost:8080/"
        },
        "id": "XEB0DvXt7xkQ",
        "outputId": "355e66b4-930a-4808-c65c-c385685b7b7c"
      },
      "execution_count": 16,
      "outputs": [
        {
          "output_type": "execute_result",
          "data": {
            "text/plain": [
              "((10234, 2), array([0.0910544 , 0.04821856]))"
            ]
          },
          "metadata": {},
          "execution_count": 16
        }
      ]
    },
    {
      "cell_type": "code",
      "source": [
        "pca_components = pd.DataFrame(pca.components_, columns=df.columns, index=['PC1', 'PC2'])\n",
        "print(pca_components.T)"
      ],
      "metadata": {
        "colab": {
          "base_uri": "https://localhost:8080/"
        },
        "id": "RbYoL_GW-X2d",
        "outputId": "8786a442-7932-433f-c4e5-37647a4f6fa0"
      },
      "execution_count": 23,
      "outputs": [
        {
          "output_type": "stream",
          "name": "stdout",
          "text": [
            "                                  PC1       PC2\n",
            "age                         -0.038680  0.033411\n",
            "bmi                          0.009907  0.036219\n",
            "elective_surgery            -0.020875 -0.124063\n",
            "ethnicity                   -0.009629 -0.023880\n",
            "gender                       0.017567  0.008522\n",
            "...                               ...       ...\n",
            "hepatic_failure             -0.018435  0.005242\n",
            "immunosuppression           -0.019739  0.009846\n",
            "leukemia                    -0.012755  0.011512\n",
            "lymphoma                    -0.010362 -0.000584\n",
            "solid_tumor_with_metastasis -0.012502  0.003525\n",
            "\n",
            "[177 rows x 2 columns]\n"
          ]
        }
      ]
    },
    {
      "cell_type": "code",
      "source": [
        "# Mengambil 10 fitur dengan kontribusi terbesar di PC1 dan PC2\n",
        "top_10_pc1 = pca_components.loc['PC1', :].abs().nlargest(10).index\n",
        "top_10_pc2 = pca_components.loc['PC2', :].abs().nlargest(10).index\n",
        "\n",
        "# Menampilkan fitur-fitur dengan kontribusi terbesar\n",
        "print(\"Top 10 fitur yang berkontribusi terbesar di PC1:\")\n",
        "print(top_10_pc1)\n",
        "\n",
        "print(\"\\nTop 10 fitur yang berkontribusi terbesar di PC2:\")\n",
        "print(top_10_pc2)"
      ],
      "metadata": {
        "colab": {
          "base_uri": "https://localhost:8080/"
        },
        "id": "sB0GOPog_zhf",
        "outputId": "548746c4-3625-4c12-c65f-ee89fb4e175b"
      },
      "execution_count": 24,
      "outputs": [
        {
          "output_type": "stream",
          "name": "stdout",
          "text": [
            "Top 10 fitur yang berkontribusi terbesar di PC1:\n",
            "Index(['h1_mbp_min', 'h1_mbp_noninvasive_min', 'h1_diasbp_min',\n",
            "       'h1_diasbp_noninvasive_min', 'h1_sysbp_min', 'h1_mbp_max',\n",
            "       'h1_sysbp_noninvasive_min', 'h1_mbp_noninvasive_max', 'h1_sysbp_max',\n",
            "       'h1_sysbp_noninvasive_max'],\n",
            "      dtype='object')\n",
            "\n",
            "Top 10 fitur yang berkontribusi terbesar di PC2:\n",
            "Index(['d1_bun_max', 'bun_apache', 'd1_creatinine_max', 'creatinine_apache',\n",
            "       'd1_bun_min', 'd1_creatinine_min', 'h1_bun_min', 'h1_bun_max',\n",
            "       'h1_creatinine_max', 'h1_creatinine_min'],\n",
            "      dtype='object')\n"
          ]
        }
      ]
    },
    {
      "cell_type": "code",
      "source": [
        "selected_features = list(set(top_10_pc1) | set(top_10_pc2))\n",
        "selected_features"
      ],
      "metadata": {
        "colab": {
          "base_uri": "https://localhost:8080/"
        },
        "id": "mNoKdBzsBIRG",
        "outputId": "982ed440-2811-4187-9395-a350c80e8d90"
      },
      "execution_count": 19,
      "outputs": [
        {
          "output_type": "execute_result",
          "data": {
            "text/plain": [
              "['h1_mbp_noninvasive_min',\n",
              " 'h1_sysbp_min',\n",
              " 'h1_bun_max',\n",
              " 'h1_sysbp_noninvasive_max',\n",
              " 'h1_creatinine_min',\n",
              " 'creatinine_apache',\n",
              " 'h1_diasbp_noninvasive_min',\n",
              " 'd1_creatinine_min',\n",
              " 'h1_sysbp_noninvasive_min',\n",
              " 'h1_mbp_min',\n",
              " 'h1_diasbp_min',\n",
              " 'h1_creatinine_max',\n",
              " 'h1_sysbp_max',\n",
              " 'd1_bun_min',\n",
              " 'h1_bun_min',\n",
              " 'h1_mbp_noninvasive_max',\n",
              " 'd1_creatinine_max',\n",
              " 'bun_apache',\n",
              " 'd1_bun_max',\n",
              " 'h1_mbp_max']"
            ]
          },
          "metadata": {},
          "execution_count": 19
        }
      ]
    },
    {
      "cell_type": "code",
      "source": [
        "scaler = StandardScaler()\n",
        "df_scaled_sf = scaler.fit_transform(selected_features)"
      ],
      "metadata": {
        "colab": {
          "base_uri": "https://localhost:8080/",
          "height": 332
        },
        "id": "fo6ssXri1JDi",
        "outputId": "e5fc1ad4-9db4-4752-dc77-b5d60b2badfb"
      },
      "execution_count": 20,
      "outputs": [
        {
          "output_type": "error",
          "ename": "ValueError",
          "evalue": "could not convert string to float: 'h1_mbp_noninvasive_min'",
          "traceback": [
            "\u001b[0;31m---------------------------------------------------------------------------\u001b[0m",
            "\u001b[0;31mValueError\u001b[0m                                Traceback (most recent call last)",
            "\u001b[0;32m<ipython-input-20-7a3bf30a464e>\u001b[0m in \u001b[0;36m<cell line: 0>\u001b[0;34m()\u001b[0m\n\u001b[1;32m      1\u001b[0m \u001b[0mscaler\u001b[0m \u001b[0;34m=\u001b[0m \u001b[0mStandardScaler\u001b[0m\u001b[0;34m(\u001b[0m\u001b[0;34m)\u001b[0m\u001b[0;34m\u001b[0m\u001b[0;34m\u001b[0m\u001b[0m\n\u001b[0;32m----> 2\u001b[0;31m \u001b[0mdf_scaled_sf\u001b[0m \u001b[0;34m=\u001b[0m \u001b[0mscaler\u001b[0m\u001b[0;34m.\u001b[0m\u001b[0mfit_transform\u001b[0m\u001b[0;34m(\u001b[0m\u001b[0mselected_features\u001b[0m\u001b[0;34m)\u001b[0m\u001b[0;34m\u001b[0m\u001b[0;34m\u001b[0m\u001b[0m\n\u001b[0m",
            "\u001b[0;32m/usr/local/lib/python3.11/dist-packages/sklearn/utils/_set_output.py\u001b[0m in \u001b[0;36mwrapped\u001b[0;34m(self, X, *args, **kwargs)\u001b[0m\n\u001b[1;32m    317\u001b[0m     \u001b[0;34m@\u001b[0m\u001b[0mwraps\u001b[0m\u001b[0;34m(\u001b[0m\u001b[0mf\u001b[0m\u001b[0;34m)\u001b[0m\u001b[0;34m\u001b[0m\u001b[0;34m\u001b[0m\u001b[0m\n\u001b[1;32m    318\u001b[0m     \u001b[0;32mdef\u001b[0m \u001b[0mwrapped\u001b[0m\u001b[0;34m(\u001b[0m\u001b[0mself\u001b[0m\u001b[0;34m,\u001b[0m \u001b[0mX\u001b[0m\u001b[0;34m,\u001b[0m \u001b[0;34m*\u001b[0m\u001b[0margs\u001b[0m\u001b[0;34m,\u001b[0m \u001b[0;34m**\u001b[0m\u001b[0mkwargs\u001b[0m\u001b[0;34m)\u001b[0m\u001b[0;34m:\u001b[0m\u001b[0;34m\u001b[0m\u001b[0;34m\u001b[0m\u001b[0m\n\u001b[0;32m--> 319\u001b[0;31m         \u001b[0mdata_to_wrap\u001b[0m \u001b[0;34m=\u001b[0m \u001b[0mf\u001b[0m\u001b[0;34m(\u001b[0m\u001b[0mself\u001b[0m\u001b[0;34m,\u001b[0m \u001b[0mX\u001b[0m\u001b[0;34m,\u001b[0m \u001b[0;34m*\u001b[0m\u001b[0margs\u001b[0m\u001b[0;34m,\u001b[0m \u001b[0;34m**\u001b[0m\u001b[0mkwargs\u001b[0m\u001b[0;34m)\u001b[0m\u001b[0;34m\u001b[0m\u001b[0;34m\u001b[0m\u001b[0m\n\u001b[0m\u001b[1;32m    320\u001b[0m         \u001b[0;32mif\u001b[0m \u001b[0misinstance\u001b[0m\u001b[0;34m(\u001b[0m\u001b[0mdata_to_wrap\u001b[0m\u001b[0;34m,\u001b[0m \u001b[0mtuple\u001b[0m\u001b[0;34m)\u001b[0m\u001b[0;34m:\u001b[0m\u001b[0;34m\u001b[0m\u001b[0;34m\u001b[0m\u001b[0m\n\u001b[1;32m    321\u001b[0m             \u001b[0;31m# only wrap the first output for cross decomposition\u001b[0m\u001b[0;34m\u001b[0m\u001b[0;34m\u001b[0m\u001b[0m\n",
            "\u001b[0;32m/usr/local/lib/python3.11/dist-packages/sklearn/base.py\u001b[0m in \u001b[0;36mfit_transform\u001b[0;34m(self, X, y, **fit_params)\u001b[0m\n\u001b[1;32m    916\u001b[0m         \u001b[0;32mif\u001b[0m \u001b[0my\u001b[0m \u001b[0;32mis\u001b[0m \u001b[0;32mNone\u001b[0m\u001b[0;34m:\u001b[0m\u001b[0;34m\u001b[0m\u001b[0;34m\u001b[0m\u001b[0m\n\u001b[1;32m    917\u001b[0m             \u001b[0;31m# fit method of arity 1 (unsupervised transformation)\u001b[0m\u001b[0;34m\u001b[0m\u001b[0;34m\u001b[0m\u001b[0m\n\u001b[0;32m--> 918\u001b[0;31m             \u001b[0;32mreturn\u001b[0m \u001b[0mself\u001b[0m\u001b[0;34m.\u001b[0m\u001b[0mfit\u001b[0m\u001b[0;34m(\u001b[0m\u001b[0mX\u001b[0m\u001b[0;34m,\u001b[0m \u001b[0;34m**\u001b[0m\u001b[0mfit_params\u001b[0m\u001b[0;34m)\u001b[0m\u001b[0;34m.\u001b[0m\u001b[0mtransform\u001b[0m\u001b[0;34m(\u001b[0m\u001b[0mX\u001b[0m\u001b[0;34m)\u001b[0m\u001b[0;34m\u001b[0m\u001b[0;34m\u001b[0m\u001b[0m\n\u001b[0m\u001b[1;32m    919\u001b[0m         \u001b[0;32melse\u001b[0m\u001b[0;34m:\u001b[0m\u001b[0;34m\u001b[0m\u001b[0;34m\u001b[0m\u001b[0m\n\u001b[1;32m    920\u001b[0m             \u001b[0;31m# fit method of arity 2 (supervised transformation)\u001b[0m\u001b[0;34m\u001b[0m\u001b[0;34m\u001b[0m\u001b[0m\n",
            "\u001b[0;32m/usr/local/lib/python3.11/dist-packages/sklearn/preprocessing/_data.py\u001b[0m in \u001b[0;36mfit\u001b[0;34m(self, X, y, sample_weight)\u001b[0m\n\u001b[1;32m    892\u001b[0m         \u001b[0;31m# Reset internal state before fitting\u001b[0m\u001b[0;34m\u001b[0m\u001b[0;34m\u001b[0m\u001b[0m\n\u001b[1;32m    893\u001b[0m         \u001b[0mself\u001b[0m\u001b[0;34m.\u001b[0m\u001b[0m_reset\u001b[0m\u001b[0;34m(\u001b[0m\u001b[0;34m)\u001b[0m\u001b[0;34m\u001b[0m\u001b[0;34m\u001b[0m\u001b[0m\n\u001b[0;32m--> 894\u001b[0;31m         \u001b[0;32mreturn\u001b[0m \u001b[0mself\u001b[0m\u001b[0;34m.\u001b[0m\u001b[0mpartial_fit\u001b[0m\u001b[0;34m(\u001b[0m\u001b[0mX\u001b[0m\u001b[0;34m,\u001b[0m \u001b[0my\u001b[0m\u001b[0;34m,\u001b[0m \u001b[0msample_weight\u001b[0m\u001b[0;34m)\u001b[0m\u001b[0;34m\u001b[0m\u001b[0;34m\u001b[0m\u001b[0m\n\u001b[0m\u001b[1;32m    895\u001b[0m \u001b[0;34m\u001b[0m\u001b[0m\n\u001b[1;32m    896\u001b[0m     \u001b[0;34m@\u001b[0m\u001b[0m_fit_context\u001b[0m\u001b[0;34m(\u001b[0m\u001b[0mprefer_skip_nested_validation\u001b[0m\u001b[0;34m=\u001b[0m\u001b[0;32mTrue\u001b[0m\u001b[0;34m)\u001b[0m\u001b[0;34m\u001b[0m\u001b[0;34m\u001b[0m\u001b[0m\n",
            "\u001b[0;32m/usr/local/lib/python3.11/dist-packages/sklearn/base.py\u001b[0m in \u001b[0;36mwrapper\u001b[0;34m(estimator, *args, **kwargs)\u001b[0m\n\u001b[1;32m   1387\u001b[0m                 )\n\u001b[1;32m   1388\u001b[0m             ):\n\u001b[0;32m-> 1389\u001b[0;31m                 \u001b[0;32mreturn\u001b[0m \u001b[0mfit_method\u001b[0m\u001b[0;34m(\u001b[0m\u001b[0mestimator\u001b[0m\u001b[0;34m,\u001b[0m \u001b[0;34m*\u001b[0m\u001b[0margs\u001b[0m\u001b[0;34m,\u001b[0m \u001b[0;34m**\u001b[0m\u001b[0mkwargs\u001b[0m\u001b[0;34m)\u001b[0m\u001b[0;34m\u001b[0m\u001b[0;34m\u001b[0m\u001b[0m\n\u001b[0m\u001b[1;32m   1390\u001b[0m \u001b[0;34m\u001b[0m\u001b[0m\n\u001b[1;32m   1391\u001b[0m         \u001b[0;32mreturn\u001b[0m \u001b[0mwrapper\u001b[0m\u001b[0;34m\u001b[0m\u001b[0;34m\u001b[0m\u001b[0m\n",
            "\u001b[0;32m/usr/local/lib/python3.11/dist-packages/sklearn/preprocessing/_data.py\u001b[0m in \u001b[0;36mpartial_fit\u001b[0;34m(self, X, y, sample_weight)\u001b[0m\n\u001b[1;32m    928\u001b[0m         \"\"\"\n\u001b[1;32m    929\u001b[0m         \u001b[0mfirst_call\u001b[0m \u001b[0;34m=\u001b[0m \u001b[0;32mnot\u001b[0m \u001b[0mhasattr\u001b[0m\u001b[0;34m(\u001b[0m\u001b[0mself\u001b[0m\u001b[0;34m,\u001b[0m \u001b[0;34m\"n_samples_seen_\"\u001b[0m\u001b[0;34m)\u001b[0m\u001b[0;34m\u001b[0m\u001b[0;34m\u001b[0m\u001b[0m\n\u001b[0;32m--> 930\u001b[0;31m         X = validate_data(\n\u001b[0m\u001b[1;32m    931\u001b[0m             \u001b[0mself\u001b[0m\u001b[0;34m,\u001b[0m\u001b[0;34m\u001b[0m\u001b[0;34m\u001b[0m\u001b[0m\n\u001b[1;32m    932\u001b[0m             \u001b[0mX\u001b[0m\u001b[0;34m,\u001b[0m\u001b[0;34m\u001b[0m\u001b[0;34m\u001b[0m\u001b[0m\n",
            "\u001b[0;32m/usr/local/lib/python3.11/dist-packages/sklearn/utils/validation.py\u001b[0m in \u001b[0;36mvalidate_data\u001b[0;34m(_estimator, X, y, reset, validate_separately, skip_check_array, **check_params)\u001b[0m\n\u001b[1;32m   2942\u001b[0m             \u001b[0mout\u001b[0m \u001b[0;34m=\u001b[0m \u001b[0mX\u001b[0m\u001b[0;34m,\u001b[0m \u001b[0my\u001b[0m\u001b[0;34m\u001b[0m\u001b[0;34m\u001b[0m\u001b[0m\n\u001b[1;32m   2943\u001b[0m     \u001b[0;32melif\u001b[0m \u001b[0;32mnot\u001b[0m \u001b[0mno_val_X\u001b[0m \u001b[0;32mand\u001b[0m \u001b[0mno_val_y\u001b[0m\u001b[0;34m:\u001b[0m\u001b[0;34m\u001b[0m\u001b[0;34m\u001b[0m\u001b[0m\n\u001b[0;32m-> 2944\u001b[0;31m         \u001b[0mout\u001b[0m \u001b[0;34m=\u001b[0m \u001b[0mcheck_array\u001b[0m\u001b[0;34m(\u001b[0m\u001b[0mX\u001b[0m\u001b[0;34m,\u001b[0m \u001b[0minput_name\u001b[0m\u001b[0;34m=\u001b[0m\u001b[0;34m\"X\"\u001b[0m\u001b[0;34m,\u001b[0m \u001b[0;34m**\u001b[0m\u001b[0mcheck_params\u001b[0m\u001b[0;34m)\u001b[0m\u001b[0;34m\u001b[0m\u001b[0;34m\u001b[0m\u001b[0m\n\u001b[0m\u001b[1;32m   2945\u001b[0m     \u001b[0;32melif\u001b[0m \u001b[0mno_val_X\u001b[0m \u001b[0;32mand\u001b[0m \u001b[0;32mnot\u001b[0m \u001b[0mno_val_y\u001b[0m\u001b[0;34m:\u001b[0m\u001b[0;34m\u001b[0m\u001b[0;34m\u001b[0m\u001b[0m\n\u001b[1;32m   2946\u001b[0m         \u001b[0mout\u001b[0m \u001b[0;34m=\u001b[0m \u001b[0m_check_y\u001b[0m\u001b[0;34m(\u001b[0m\u001b[0my\u001b[0m\u001b[0;34m,\u001b[0m \u001b[0;34m**\u001b[0m\u001b[0mcheck_params\u001b[0m\u001b[0;34m)\u001b[0m\u001b[0;34m\u001b[0m\u001b[0;34m\u001b[0m\u001b[0m\n",
            "\u001b[0;32m/usr/local/lib/python3.11/dist-packages/sklearn/utils/validation.py\u001b[0m in \u001b[0;36mcheck_array\u001b[0;34m(array, accept_sparse, accept_large_sparse, dtype, order, copy, force_writeable, force_all_finite, ensure_all_finite, ensure_non_negative, ensure_2d, allow_nd, ensure_min_samples, ensure_min_features, estimator, input_name)\u001b[0m\n\u001b[1;32m   1053\u001b[0m                     \u001b[0marray\u001b[0m \u001b[0;34m=\u001b[0m \u001b[0mxp\u001b[0m\u001b[0;34m.\u001b[0m\u001b[0mastype\u001b[0m\u001b[0;34m(\u001b[0m\u001b[0marray\u001b[0m\u001b[0;34m,\u001b[0m \u001b[0mdtype\u001b[0m\u001b[0;34m,\u001b[0m \u001b[0mcopy\u001b[0m\u001b[0;34m=\u001b[0m\u001b[0;32mFalse\u001b[0m\u001b[0;34m)\u001b[0m\u001b[0;34m\u001b[0m\u001b[0;34m\u001b[0m\u001b[0m\n\u001b[1;32m   1054\u001b[0m                 \u001b[0;32melse\u001b[0m\u001b[0;34m:\u001b[0m\u001b[0;34m\u001b[0m\u001b[0;34m\u001b[0m\u001b[0m\n\u001b[0;32m-> 1055\u001b[0;31m                     \u001b[0marray\u001b[0m \u001b[0;34m=\u001b[0m \u001b[0m_asarray_with_order\u001b[0m\u001b[0;34m(\u001b[0m\u001b[0marray\u001b[0m\u001b[0;34m,\u001b[0m \u001b[0morder\u001b[0m\u001b[0;34m=\u001b[0m\u001b[0morder\u001b[0m\u001b[0;34m,\u001b[0m \u001b[0mdtype\u001b[0m\u001b[0;34m=\u001b[0m\u001b[0mdtype\u001b[0m\u001b[0;34m,\u001b[0m \u001b[0mxp\u001b[0m\u001b[0;34m=\u001b[0m\u001b[0mxp\u001b[0m\u001b[0;34m)\u001b[0m\u001b[0;34m\u001b[0m\u001b[0;34m\u001b[0m\u001b[0m\n\u001b[0m\u001b[1;32m   1056\u001b[0m             \u001b[0;32mexcept\u001b[0m \u001b[0mComplexWarning\u001b[0m \u001b[0;32mas\u001b[0m \u001b[0mcomplex_warning\u001b[0m\u001b[0;34m:\u001b[0m\u001b[0;34m\u001b[0m\u001b[0;34m\u001b[0m\u001b[0m\n\u001b[1;32m   1057\u001b[0m                 raise ValueError(\n",
            "\u001b[0;32m/usr/local/lib/python3.11/dist-packages/sklearn/utils/_array_api.py\u001b[0m in \u001b[0;36m_asarray_with_order\u001b[0;34m(array, dtype, order, copy, xp, device)\u001b[0m\n\u001b[1;32m    837\u001b[0m             \u001b[0marray\u001b[0m \u001b[0;34m=\u001b[0m \u001b[0mnumpy\u001b[0m\u001b[0;34m.\u001b[0m\u001b[0marray\u001b[0m\u001b[0;34m(\u001b[0m\u001b[0marray\u001b[0m\u001b[0;34m,\u001b[0m \u001b[0morder\u001b[0m\u001b[0;34m=\u001b[0m\u001b[0morder\u001b[0m\u001b[0;34m,\u001b[0m \u001b[0mdtype\u001b[0m\u001b[0;34m=\u001b[0m\u001b[0mdtype\u001b[0m\u001b[0;34m)\u001b[0m\u001b[0;34m\u001b[0m\u001b[0;34m\u001b[0m\u001b[0m\n\u001b[1;32m    838\u001b[0m         \u001b[0;32melse\u001b[0m\u001b[0;34m:\u001b[0m\u001b[0;34m\u001b[0m\u001b[0;34m\u001b[0m\u001b[0m\n\u001b[0;32m--> 839\u001b[0;31m             \u001b[0marray\u001b[0m \u001b[0;34m=\u001b[0m \u001b[0mnumpy\u001b[0m\u001b[0;34m.\u001b[0m\u001b[0masarray\u001b[0m\u001b[0;34m(\u001b[0m\u001b[0marray\u001b[0m\u001b[0;34m,\u001b[0m \u001b[0morder\u001b[0m\u001b[0;34m=\u001b[0m\u001b[0morder\u001b[0m\u001b[0;34m,\u001b[0m \u001b[0mdtype\u001b[0m\u001b[0;34m=\u001b[0m\u001b[0mdtype\u001b[0m\u001b[0;34m)\u001b[0m\u001b[0;34m\u001b[0m\u001b[0;34m\u001b[0m\u001b[0m\n\u001b[0m\u001b[1;32m    840\u001b[0m \u001b[0;34m\u001b[0m\u001b[0m\n\u001b[1;32m    841\u001b[0m         \u001b[0;31m# At this point array is a NumPy ndarray. We convert it to an array\u001b[0m\u001b[0;34m\u001b[0m\u001b[0;34m\u001b[0m\u001b[0m\n",
            "\u001b[0;31mValueError\u001b[0m: could not convert string to float: 'h1_mbp_noninvasive_min'"
          ]
        }
      ]
    },
    {
      "cell_type": "code",
      "source": [
        "inertia = []\n",
        "for n in range(1, 11):\n",
        "    algorithm = KMeans(n_clusters = n, random_state = 111, init = 'k-means++', n_init = 10, max_iter = 300,\n",
        "                    tol = 0.0001, algorithm='elkan')\n",
        "    algorithm.fit(df_pca)\n",
        "    inertia.append(algorithm.inertia_)"
      ],
      "metadata": {
        "id": "BzG1RXoa8pAP"
      },
      "execution_count": null,
      "outputs": []
    },
    {
      "cell_type": "code",
      "source": [
        "plt.figure(1 , figsize = (15 ,6))\n",
        "plt.plot(np.arange(1 , 11) , inertia , 'o')\n",
        "plt.plot(np.arange(1 , 11) , inertia , '-' , alpha = 0.5)\n",
        "plt.xlabel('Number of Clusters') , plt.ylabel('Inertia')\n",
        "plt.show()"
      ],
      "metadata": {
        "id": "XvHuU6nb8uOF"
      },
      "execution_count": null,
      "outputs": []
    },
    {
      "cell_type": "code",
      "source": [
        "algorithm = (KMeans(n_clusters = 4 ,init='k-means++', n_init = 10 ,max_iter=300,\n",
        "                        tol=0.0001,  random_state= 111  , algorithm='elkan') )\n",
        "\n",
        "algorithm.fit(df_pca)\n",
        "labels1 = algorithm.labels_\n",
        "centroids1 = algorithm.cluster_centers_"
      ],
      "metadata": {
        "id": "xd3NTqgFCffp"
      },
      "execution_count": null,
      "outputs": []
    },
    {
      "cell_type": "code",
      "source": [
        "h = 0.02\n",
        "x_min, x_max = df_pca[:, 0].min() - 1, df_pca[:, 0].max() + 1\n",
        "y_min, y_max = df_pca[:, 1].min() - 1, df_pca[:, 1].max() + 1\n",
        "xx, yy = np.meshgrid(np.arange(x_min, x_max, h), np.arange(y_min, y_max, h))\n",
        "Z = algorithm.predict(np.c_[xx.ravel(), yy.ravel()])"
      ],
      "metadata": {
        "id": "cTAUCqL6P6ry"
      },
      "execution_count": null,
      "outputs": []
    },
    {
      "cell_type": "code",
      "source": [
        "plt.figure(1, figsize=(15, 7))\n",
        "plt.clf()\n",
        "\n",
        "# Bentuk ulang hasil prediksi agar sesuai dengan grid\n",
        "Z = Z.reshape(xx.shape)\n",
        "\n",
        "# Plot decision boundary\n",
        "plt.imshow(Z, interpolation='nearest',\n",
        "           extent=(xx.min(), xx.max(), yy.min(), yy.max()),\n",
        "           cmap=plt.cm.Pastel2, aspect='auto', origin='lower')\n",
        "\n",
        "# Plot data points\n",
        "plt.scatter(df_pca[:, 0], df_pca[:, 1], c=labels1, cmap='viridis', edgecolors='k', alpha=0.7)\n",
        "\n",
        "# Plot centroids\n",
        "plt.scatter(centroids1[:, 0], centroids1[:, 1], c='red', marker='X', s=200, label=\"Centroids\")\n",
        "\n",
        "plt.xlabel(\"Principal Component 1\")\n",
        "plt.ylabel(\"Principal Component 2\")\n",
        "plt.title(\"KMeans Clustering with Decision Boundary\")\n",
        "plt.legend()\n",
        "plt.show()\n"
      ],
      "metadata": {
        "id": "OO84eEjm9YG0"
      },
      "execution_count": null,
      "outputs": []
    },
    {
      "cell_type": "code",
      "source": [
        "score = silhouette_score(df_pca, labels1)\n",
        "print(f\"Silhouette Score: {score:.4f}\")"
      ],
      "metadata": {
        "id": "Gm3D6-m0-ex9"
      },
      "execution_count": null,
      "outputs": []
    },
    {
      "cell_type": "markdown",
      "source": [
        "# **6. Pembangunan Model Clustering**"
      ],
      "metadata": {
        "id": "BR73dCnrLEiq"
      }
    },
    {
      "cell_type": "markdown",
      "source": [
        "## **a. Pembangunan Model Clustering**"
      ],
      "metadata": {
        "id": "Fkd_QHXWMBDr"
      }
    },
    {
      "cell_type": "markdown",
      "source": [
        "Pada tahap ini, Anda membangun model clustering dengan memilih algoritma yang sesuai untuk mengelompokkan data berdasarkan kesamaan. Berikut adalah **rekomendasi** tahapannya.\n",
        "1. Pilih algoritma clustering yang sesuai.\n",
        "2. Latih model dengan data menggunakan algoritma tersebut."
      ],
      "metadata": {
        "id": "Kn6Y2qbqMVLP"
      }
    },
    {
      "cell_type": "code",
      "source": [
        "#Type your code here"
      ],
      "metadata": {
        "id": "hgYvwWOzM93L"
      },
      "execution_count": null,
      "outputs": []
    },
    {
      "cell_type": "markdown",
      "source": [
        "## **b. Evaluasi Model Clustering**"
      ],
      "metadata": {
        "id": "zsGVwzPKMEvn"
      }
    },
    {
      "cell_type": "markdown",
      "source": [
        "Untuk menentukan jumlah cluster yang optimal dalam model clustering, Anda dapat menggunakan metode Elbow atau Silhouette Score.\n",
        "\n",
        "Metode ini membantu kita menemukan jumlah cluster yang memberikan pemisahan terbaik antar kelompok data, sehingga model yang dibangun dapat lebih efektif. Berikut adalah **rekomendasi** tahapannya.\n",
        "1. Gunakan Silhouette Score dan Elbow Method untuk menentukan jumlah cluster optimal.\n",
        "2. Hitung Silhouette Score sebagai ukuran kualitas cluster."
      ],
      "metadata": {
        "id": "qk63ew39MeBf"
      }
    },
    {
      "cell_type": "code",
      "source": [
        "#Type your code here"
      ],
      "metadata": {
        "id": "yrPkK_bvM-Ya"
      },
      "execution_count": null,
      "outputs": []
    },
    {
      "cell_type": "markdown",
      "source": [
        "## **c. Feature Selection (Opsional)**"
      ],
      "metadata": {
        "id": "vWZp5vKNQddd"
      }
    },
    {
      "cell_type": "markdown",
      "source": [
        "Silakan lakukan feature selection jika Anda membutuhkan optimasi model clustering. Jika Anda menerapkan proses ini, silakan lakukan pemodelan dan evaluasi kembali menggunakan kolom-kolom hasil feature selection. Terakhir, bandingkan hasil performa model sebelum dan sesudah menerapkan feature selection."
      ],
      "metadata": {
        "id": "QIHKgE07Q4c0"
      }
    },
    {
      "cell_type": "code",
      "source": [
        "#Type your code here"
      ],
      "metadata": {
        "id": "Vbstha0PRUpI"
      },
      "execution_count": null,
      "outputs": []
    },
    {
      "cell_type": "markdown",
      "source": [
        "## **d. Visualisasi Hasil Clustering**"
      ],
      "metadata": {
        "id": "nn01TKkLLRiF"
      }
    },
    {
      "cell_type": "markdown",
      "source": [
        "Setelah model clustering dilatih dan jumlah cluster optimal ditentukan, langkah selanjutnya adalah menampilkan hasil clustering melalui visualisasi.\n",
        "\n",
        "Berikut adalah **rekomendasi** tahapannya.\n",
        "1. Tampilkan hasil clustering dalam bentuk visualisasi, seperti grafik scatter plot atau 2D PCA projection."
      ],
      "metadata": {
        "id": "gaz0fnhhMkRI"
      }
    },
    {
      "cell_type": "code",
      "source": [
        "#Type your code here"
      ],
      "metadata": {
        "id": "lfOjVvfYM-4v"
      },
      "execution_count": null,
      "outputs": []
    },
    {
      "cell_type": "markdown",
      "source": [
        "## **e. Analisis dan Interpretasi Hasil Cluster**"
      ],
      "metadata": {
        "id": "X4eydPWJLH4I"
      }
    },
    {
      "cell_type": "markdown",
      "source": [
        "### Interpretasi Target"
      ],
      "metadata": {
        "id": "mxTeTkTkA7o6"
      }
    },
    {
      "cell_type": "markdown",
      "source": [
        "**Tutorial: Melakukan Inverse Transform pada Data Target Setelah Clustering**\n",
        "\n",
        "Setelah melakukan clustering dengan model **KMeans**, kita perlu mengembalikan data yang telah diubah (normalisasi, standarisasi, atau label encoding) ke bentuk aslinya. Berikut adalah langkah-langkahnya.\n",
        "\n",
        "---\n",
        "\n",
        "**1. Tambahkan Hasil Label Cluster ke DataFrame**\n",
        "Setelah mendapatkan hasil clustering, kita tambahkan label cluster ke dalam DataFrame yang telah dinormalisasi.\n",
        "\n",
        "```python\n",
        "df_normalized['Cluster'] = model_kmeans.labels_\n",
        "```\n",
        "\n",
        "Lakukan Inverse Transform pada feature yang sudah dilakukan Labelisasi dan Standararisasi. Berikut code untuk melakukannya:\n",
        "label_encoder.inverse_transform(X_Selected[['Fitur']])\n",
        "\n",
        "Lalu masukkan ke dalam kolom dataset asli atau membuat dataframe baru\n",
        "```python\n",
        "df_normalized['Fitur'] = label_encoder.inverse_transform(df_normalized[['Fitur']])\n",
        "```\n",
        "Masukkan Data yang Sudah Di-Inverse ke dalam Dataset Asli atau Buat DataFrame Baru\n",
        "```python\n",
        "df_original['Fitur'] = df_normalized['Fitur']\n",
        "```"
      ],
      "metadata": {
        "id": "NJDsBARmIsbW"
      }
    },
    {
      "cell_type": "code",
      "source": [
        "# Type your code here\n"
      ],
      "metadata": {
        "id": "ySc78cHdOiaQ"
      },
      "execution_count": null,
      "outputs": []
    },
    {
      "cell_type": "markdown",
      "source": [
        "### Inverse Data Jika Melakukan Normalisasi/Standardisasi"
      ],
      "metadata": {
        "id": "vITTtdoT_fIF"
      }
    },
    {
      "cell_type": "markdown",
      "source": [
        "Inverse Transform untuk Data yang Distandarisasi\n",
        "Jika data numerik telah dinormalisasi menggunakan StandardScaler atau MinMaxScaler, kita bisa mengembalikannya ke skala asli:\n",
        "```python\n",
        "df_normalized[['Fitur_Numerik']] = scaler.inverse_transform(df_normalized[['Fitur_Numerik']])\n",
        "```"
      ],
      "metadata": {
        "id": "bUGkyAvnKRrk"
      }
    },
    {
      "cell_type": "code",
      "source": [
        "# Type your code here"
      ],
      "metadata": {
        "id": "aIGQ_6wKGbVz"
      },
      "execution_count": null,
      "outputs": []
    },
    {
      "cell_type": "markdown",
      "source": [
        "Setelah melakukan clustering, langkah selanjutnya adalah menganalisis karakteristik dari masing-masing cluster berdasarkan fitur yang tersedia.\n",
        "\n",
        "Berikut adalah **rekomendasi** tahapannya.\n",
        "1. Analisis karakteristik tiap cluster berdasarkan fitur yang tersedia (misalnya, distribusi nilai dalam cluster).\n",
        "2. Berikan interpretasi: Apakah hasil clustering sesuai dengan ekspektasi dan logika bisnis? Apakah ada pola tertentu yang bisa dimanfaatkan?"
      ],
      "metadata": {
        "id": "SENfLnfRMpC-"
      }
    },
    {
      "cell_type": "code",
      "source": [
        "# Type your code here"
      ],
      "metadata": {
        "id": "MFq0x-OzM_Wt"
      },
      "execution_count": null,
      "outputs": []
    },
    {
      "cell_type": "markdown",
      "source": [
        "Tulis hasil interpretasinya di sini.\n",
        "1. Cluster 1:\n",
        "2. Cluster 2:\n",
        "3. Cluster 3:"
      ],
      "metadata": {
        "id": "JfgVMEBDS3KG"
      }
    },
    {
      "cell_type": "markdown",
      "source": [
        "# Contoh interpretasi [TEMPLATE]\n",
        "# Analisis Karakteristik Cluster dari Model KMeans\n",
        "\n",
        "Berikut adalah analisis karakteristik untuk setiap cluster yang dihasilkan dari model KMeans.\n",
        "\n",
        "## Cluster 1:\n",
        "- **Rata-rata Annual Income (k$):** 48,260  \n",
        "- **Rata-rata Spending Score (1-100):** 56.48  \n",
        "- **Analisis:** Cluster ini mencakup pelanggan dengan pendapatan tahunan menengah dan tingkat pengeluaran yang cukup tinggi. Pelanggan dalam cluster ini cenderung memiliki daya beli yang moderat dan mereka lebih cenderung untuk membelanjakan sebagian besar pendapatan mereka.\n",
        "\n",
        "## Cluster 2:\n",
        "- **Rata-rata Annual Income (k$):** 86,540  \n",
        "- **Rata-rata Spending Score (1-100):** 82.13  \n",
        "- **Analisis:** Cluster ini menunjukkan pelanggan dengan pendapatan tahunan tinggi dan pengeluaran yang sangat tinggi. Pelanggan di cluster ini merupakan kelompok premium dengan daya beli yang kuat dan cenderung mengeluarkan uang dalam jumlah besar untuk produk atau layanan.\n",
        "\n",
        "## Cluster 3:\n",
        "- **Rata-rata Annual Income (k$):** 87,000  \n",
        "- **Rata-rata Spending Score (1-100):** 18.63  \n",
        "- **Analisis:** Cluster ini terdiri dari pelanggan dengan pendapatan tahunan yang tinggi tetapi pengeluaran yang rendah. Mereka mungkin memiliki kapasitas finansial yang baik namun tidak terlalu aktif dalam berbelanja. Ini bisa menunjukkan bahwa mereka lebih selektif dalam pengeluaran mereka atau mungkin lebih cenderung untuk menyimpan uang."
      ],
      "metadata": {
        "id": "hOygRVqs_vdU"
      }
    },
    {
      "cell_type": "markdown",
      "source": [
        "# **7. Mengeksport Data**\n",
        "\n",
        "Simpan hasilnya ke dalam file CSV."
      ],
      "metadata": {
        "id": "jaYP1fx5VgWO"
      }
    },
    {
      "cell_type": "code",
      "source": [],
      "metadata": {
        "id": "fkbg_o80aRSH"
      },
      "execution_count": null,
      "outputs": []
    }
  ]
}